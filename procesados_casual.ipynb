{
 "cells": [
  {
   "cell_type": "code",
   "execution_count": 110,
   "metadata": {},
   "outputs": [],
   "source": [
    "import pandas as pd\n",
    "import numpy as np\n",
    "\n",
    "import seaborn as sns\n",
    "import matplotlib.pyplot as plt\n",
    "\n",
    "import sidetable as stb\n",
    "\n",
    "from scipy import stats\n",
    "import researchpy as rp\n",
    "from scipy.stats import levene\n",
    "import math\n",
    "from sklearn.preprocessing import MinMaxScaler\n",
    "\n",
    "from sklearn.preprocessing import RobustScaler\n",
    "\n",
    "pd.options.display.max_columns = None\n",
    "pd.options.display.max_rows = None\n",
    "\n",
    "import warnings\n",
    "warnings.filterwarnings('ignore')"
   ]
  },
  {
   "cell_type": "code",
   "execution_count": 111,
   "metadata": {},
   "outputs": [],
   "source": [
    "df = pd.read_pickle('data/bikes_limpio.pkl')"
   ]
  },
  {
   "cell_type": "code",
   "execution_count": 112,
   "metadata": {},
   "outputs": [],
   "source": [
    "# Comenzaremos eliminando las columnas de registrado y total, ya que en este modelo nuestra VR será casual.\n",
    "df = df.drop([\"registrado\", \"total\"], axis = 1)"
   ]
  },
  {
   "cell_type": "markdown",
   "metadata": {},
   "source": [
    "Comprobaremos si se cumplen las asunciones de nuestros datos:"
   ]
  },
  {
   "cell_type": "code",
   "execution_count": 113,
   "metadata": {},
   "outputs": [
    {
     "data": {
      "image/png": "[encoded data removed]",
      "text/plain": [
       "<Figure size 432x288 with 1 Axes>"
      ]
     },
     "metadata": {
      "needs_background": "light"
     },
     "output_type": "display_data"
    }
   ],
   "source": [
    "# Vamos a observar visualmente si nuestros datos son normales.\n",
    "sns.histplot(x = df[\"casual\"],  bins=20);"
   ]
  },
  {
   "cell_type": "markdown",
   "metadata": {},
   "source": [
    "En principio parece que nuestros datos no son normales ya que no se asemejan a una campana de Gauss, pero lo comprobaremos de forma analítica."
   ]
  },
  {
   "cell_type": "code",
   "execution_count": 114,
   "metadata": {},
   "outputs": [
    {
     "data": {
      "text/plain": [
       "ShapiroResult(statistic=0.8850967288017273, pvalue=7.660028716313278e-23)"
      ]
     },
     "execution_count": 114,
     "metadata": {},
     "output_type": "execute_result"
    }
   ],
   "source": [
    "# Comprobamos la normalidad con el test de shapiro ya que tenemos una muestra de datos pequeña:\n",
    "stats.shapiro(df[\"casual\"])"
   ]
  },
  {
   "cell_type": "markdown",
   "metadata": {},
   "source": [
    "El test nos confirma que nuestros datos NO son normales ya que nuestro p-value es menor a 0.05. Intentaremos normalizarlos."
   ]
  },
  {
   "cell_type": "code",
   "execution_count": 115,
   "metadata": {},
   "outputs": [],
   "source": [
    "# BOX-COX()\n",
    "df[\"casual_box\"], lambda_ajustada = stats.boxcox(df[\"casual\"])"
   ]
  },
  {
   "cell_type": "code",
   "execution_count": 116,
   "metadata": {},
   "outputs": [
    {
     "data": {
      "text/plain": [
       "ShapiroResult(statistic=0.9915913939476013, pvalue=0.000365116517059505)"
      ]
     },
     "execution_count": 116,
     "metadata": {},
     "output_type": "execute_result"
    }
   ],
   "source": [
    "stats.shapiro(df[\"casual_box\"])"
   ]
  },
  {
   "cell_type": "markdown",
   "metadata": {},
   "source": [
    "Después de intentar normalizar con varios métodos, el que mejor resultado nos ha dado es el BoxCox, no bostante tampoco consigue normalizar nuestros datos, por lo que la asunción de normalidad no se cumple y no podremos realizar el ANOVA ni el algoritmo de regresión lineal."
   ]
  },
  {
   "cell_type": "markdown",
   "metadata": {},
   "source": [
    "Pasamos a estandarizar nuestros datos."
   ]
  },
  {
   "cell_type": "code",
   "execution_count": 117,
   "metadata": {},
   "outputs": [],
   "source": [
    "#eliminamos la columna respuesta\n",
    "df_estand = df.select_dtypes(include = np.number).drop([\"casual\", \"casual_box\"], axis = 1)"
   ]
  },
  {
   "cell_type": "code",
   "execution_count": 118,
   "metadata": {},
   "outputs": [],
   "source": [
    "robust = RobustScaler()"
   ]
  },
  {
   "cell_type": "code",
   "execution_count": 119,
   "metadata": {},
   "outputs": [
    {
     "data": {
      "text/html": [
       "<style>#sk-container-id-5 {color: black;}#sk-container-id-5 pre{padding: 0;}#sk-container-id-5 div.sk-toggleable {background-color: white;}#sk-container-id-5 label.sk-toggleable__label {cursor: pointer;display: block;width: 100%;margin-bottom: 0;padding: 0.3em;box-sizing: border-box;text-align: center;}#sk-container-id-5 label.sk-toggleable__label-arrow:before {content: \"▸\";float: left;margin-right: 0.25em;color: #696969;}#sk-container-id-5 label.sk-toggleable__label-arrow:hover:before {color: black;}#sk-container-id-5 div.sk-estimator:hover label.sk-toggleable__label-arrow:before {color: black;}#sk-container-id-5 div.sk-toggleable__content {max-height: 0;max-width: 0;overflow: hidden;text-align: left;background-color: #f0f8ff;}#sk-container-id-5 div.sk-toggleable__content pre {margin: 0.2em;color: black;border-radius: 0.25em;background-color: #f0f8ff;}#sk-container-id-5 input.sk-toggleable__control:checked~div.sk-toggleable__content {max-height: 200px;max-width: 100%;overflow: auto;}#sk-container-id-5 input.sk-toggleable__control:checked~label.sk-toggleable__label-arrow:before {content: \"▾\";}#sk-container-id-5 div.sk-estimator input.sk-toggleable__control:checked~label.sk-toggleable__label {background-color: #d4ebff;}#sk-container-id-5 div.sk-label input.sk-toggleable__control:checked~label.sk-toggleable__label {background-color: #d4ebff;}#sk-container-id-5 input.sk-hidden--visually {border: 0;clip: rect(1px 1px 1px 1px);clip: rect(1px, 1px, 1px, 1px);height: 1px;margin: -1px;overflow: hidden;padding: 0;position: absolute;width: 1px;}#sk-container-id-5 div.sk-estimator {font-family: monospace;background-color: #f0f8ff;border: 1px dotted black;border-radius: 0.25em;box-sizing: border-box;margin-bottom: 0.5em;}#sk-container-id-5 div.sk-estimator:hover {background-color: #d4ebff;}#sk-container-id-5 div.sk-parallel-item::after {content: \"\";width: 100%;border-bottom: 1px solid gray;flex-grow: 1;}#sk-container-id-5 div.sk-label:hover label.sk-toggleable__label {background-color: #d4ebff;}#sk-container-id-5 div.sk-serial::before {content: \"\";position: absolute;border-left: 1px solid gray;box-sizing: border-box;top: 0;bottom: 0;left: 50%;z-index: 0;}#sk-container-id-5 div.sk-serial {display: flex;flex-direction: column;align-items: center;background-color: white;padding-right: 0.2em;padding-left: 0.2em;position: relative;}#sk-container-id-5 div.sk-item {position: relative;z-index: 1;}#sk-container-id-5 div.sk-parallel {display: flex;align-items: stretch;justify-content: center;background-color: white;position: relative;}#sk-container-id-5 div.sk-item::before, #sk-container-id-5 div.sk-parallel-item::before {content: \"\";position: absolute;border-left: 1px solid gray;box-sizing: border-box;top: 0;bottom: 0;left: 50%;z-index: -1;}#sk-container-id-5 div.sk-parallel-item {display: flex;flex-direction: column;z-index: 1;position: relative;background-color: white;}#sk-container-id-5 div.sk-parallel-item:first-child::after {align-self: flex-end;width: 50%;}#sk-container-id-5 div.sk-parallel-item:last-child::after {align-self: flex-start;width: 50%;}#sk-container-id-5 div.sk-parallel-item:only-child::after {width: 0;}#sk-container-id-5 div.sk-dashed-wrapped {border: 1px dashed gray;margin: 0 0.4em 0.5em 0.4em;box-sizing: border-box;padding-bottom: 0.4em;background-color: white;}#sk-container-id-5 div.sk-label label {font-family: monospace;font-weight: bold;display: inline-block;line-height: 1.2em;}#sk-container-id-5 div.sk-label-container {text-align: center;}#sk-container-id-5 div.sk-container {/* jupyter's `normalize.less` sets `[hidden] { display: none; }` but bootstrap.min.css set `[hidden] { display: none !important; }` so we also need the `!important` here to be able to override the default hidden behavior on the sphinx rendered scikit-learn.org. See: https://github.com/scikit-learn/scikit-learn/issues/21755 */display: inline-block !important;position: relative;}#sk-container-id-5 div.sk-text-repr-fallback {display: none;}</style><div id=\"sk-container-id-5\" class=\"sk-top-container\"><div class=\"sk-text-repr-fallback\"><pre>RobustScaler()</pre><b>In a Jupyter environment, please rerun this cell to show the HTML representation or trust the notebook. <br />On GitHub, the HTML representation is unable to render, please try loading this page with nbviewer.org.</b></div><div class=\"sk-container\" hidden><div class=\"sk-item\"><div class=\"sk-estimator sk-toggleable\"><input class=\"sk-toggleable__control sk-hidden--visually\" id=\"sk-estimator-id-5\" type=\"checkbox\" checked><label for=\"sk-estimator-id-5\" class=\"sk-toggleable__label sk-toggleable__label-arrow\">RobustScaler</label><div class=\"sk-toggleable__content\"><pre>RobustScaler()</pre></div></div></div></div></div>"
      ],
      "text/plain": [
       "RobustScaler()"
      ]
     },
     "execution_count": 119,
     "metadata": {},
     "output_type": "execute_result"
    }
   ],
   "source": [
    "robust.fit(df_estand)"
   ]
  },
  {
   "cell_type": "code",
   "execution_count": 120,
   "metadata": {},
   "outputs": [],
   "source": [
    "X_robust = robust.transform(df_estand)"
   ]
  },
  {
   "cell_type": "code",
   "execution_count": 121,
   "metadata": {},
   "outputs": [
    {
     "data": {
      "text/html": [
       "<div>\n",
       "<style scoped>\n",
       "    .dataframe tbody tr th:only-of-type {\n",
       "        vertical-align: middle;\n",
       "    }\n",
       "\n",
       "    .dataframe tbody tr th {\n",
       "        vertical-align: top;\n",
       "    }\n",
       "\n",
       "    .dataframe thead th {\n",
       "        text-align: right;\n",
       "    }\n",
       "</style>\n",
       "<table border=\"1\" class=\"dataframe\">\n",
       "  <thead>\n",
       "    <tr style=\"text-align: right;\">\n",
       "      <th></th>\n",
       "      <th>sensacion_termica</th>\n",
       "      <th>humedad</th>\n",
       "      <th>viento</th>\n",
       "    </tr>\n",
       "  </thead>\n",
       "  <tbody>\n",
       "    <tr>\n",
       "      <th>0</th>\n",
       "      <td>-0.453039</td>\n",
       "      <td>0.861178</td>\n",
       "      <td>-0.212121</td>\n",
       "    </tr>\n",
       "    <tr>\n",
       "      <th>1</th>\n",
       "      <td>-0.489871</td>\n",
       "      <td>0.332332</td>\n",
       "      <td>0.696970</td>\n",
       "    </tr>\n",
       "  </tbody>\n",
       "</table>\n",
       "</div>"
      ],
      "text/plain": [
       "   sensacion_termica   humedad    viento\n",
       "0          -0.453039  0.861178 -0.212121\n",
       "1          -0.489871  0.332332  0.696970"
      ]
     },
     "execution_count": 121,
     "metadata": {},
     "output_type": "execute_result"
    }
   ],
   "source": [
    "df_robust = pd.DataFrame(X_robust, columns = df_estand.columns)\n",
    "df_robust.head(2)"
   ]
  },
  {
   "cell_type": "code",
   "execution_count": 122,
   "metadata": {},
   "outputs": [],
   "source": [
    "df[df_robust.columns] = df_robust"
   ]
  },
  {
   "cell_type": "code",
   "execution_count": 123,
   "metadata": {},
   "outputs": [
    {
     "data": {
      "text/html": [
       "<div>\n",
       "<style scoped>\n",
       "    .dataframe tbody tr th:only-of-type {\n",
       "        vertical-align: middle;\n",
       "    }\n",
       "\n",
       "    .dataframe tbody tr th {\n",
       "        vertical-align: top;\n",
       "    }\n",
       "\n",
       "    .dataframe thead th {\n",
       "        text-align: right;\n",
       "    }\n",
       "</style>\n",
       "<table border=\"1\" class=\"dataframe\">\n",
       "  <thead>\n",
       "    <tr style=\"text-align: right;\">\n",
       "      <th></th>\n",
       "      <th>fecha</th>\n",
       "      <th>estacion</th>\n",
       "      <th>año</th>\n",
       "      <th>mes</th>\n",
       "      <th>festivo</th>\n",
       "      <th>dia_semana</th>\n",
       "      <th>laboral</th>\n",
       "      <th>clima</th>\n",
       "      <th>sensacion_termica</th>\n",
       "      <th>humedad</th>\n",
       "      <th>viento</th>\n",
       "      <th>casual</th>\n",
       "      <th>casual_box</th>\n",
       "    </tr>\n",
       "  </thead>\n",
       "  <tbody>\n",
       "    <tr>\n",
       "      <th>0</th>\n",
       "      <td>2018-01-01</td>\n",
       "      <td>invierno</td>\n",
       "      <td>2018</td>\n",
       "      <td>enero</td>\n",
       "      <td>sí</td>\n",
       "      <td>lunes</td>\n",
       "      <td>no</td>\n",
       "      <td>niebla</td>\n",
       "      <td>-0.453039</td>\n",
       "      <td>0.861178</td>\n",
       "      <td>-0.212121</td>\n",
       "      <td>331</td>\n",
       "      <td>16.397820</td>\n",
       "    </tr>\n",
       "    <tr>\n",
       "      <th>1</th>\n",
       "      <td>2018-02-01</td>\n",
       "      <td>invierno</td>\n",
       "      <td>2018</td>\n",
       "      <td>febrero</td>\n",
       "      <td>no</td>\n",
       "      <td>jueves</td>\n",
       "      <td>sí</td>\n",
       "      <td>niebla</td>\n",
       "      <td>-0.489871</td>\n",
       "      <td>0.332332</td>\n",
       "      <td>0.696970</td>\n",
       "      <td>131</td>\n",
       "      <td>11.472437</td>\n",
       "    </tr>\n",
       "    <tr>\n",
       "      <th>2</th>\n",
       "      <td>2018-03-01</td>\n",
       "      <td>invierno</td>\n",
       "      <td>2018</td>\n",
       "      <td>marzo</td>\n",
       "      <td>no</td>\n",
       "      <td>jueves</td>\n",
       "      <td>sí</td>\n",
       "      <td>cielo despejado</td>\n",
       "      <td>-1.093923</td>\n",
       "      <td>-0.912861</td>\n",
       "      <td>0.681818</td>\n",
       "      <td>120</td>\n",
       "      <td>11.076035</td>\n",
       "    </tr>\n",
       "    <tr>\n",
       "      <th>3</th>\n",
       "      <td>2018-04-01</td>\n",
       "      <td>primavera</td>\n",
       "      <td>2018</td>\n",
       "      <td>abril</td>\n",
       "      <td>no</td>\n",
       "      <td>domingo</td>\n",
       "      <td>no</td>\n",
       "      <td>cielo despejado</td>\n",
       "      <td>-1.012891</td>\n",
       "      <td>-0.177284</td>\n",
       "      <td>-0.212121</td>\n",
       "      <td>108</td>\n",
       "      <td>10.613970</td>\n",
       "    </tr>\n",
       "    <tr>\n",
       "      <th>4</th>\n",
       "      <td>2018-05-01</td>\n",
       "      <td>primavera</td>\n",
       "      <td>2018</td>\n",
       "      <td>mayo</td>\n",
       "      <td>no</td>\n",
       "      <td>martes</td>\n",
       "      <td>sí</td>\n",
       "      <td>cielo despejado</td>\n",
       "      <td>-0.946593</td>\n",
       "      <td>-0.912861</td>\n",
       "      <td>0.060606</td>\n",
       "      <td>82</td>\n",
       "      <td>9.475537</td>\n",
       "    </tr>\n",
       "  </tbody>\n",
       "</table>\n",
       "</div>"
      ],
      "text/plain": [
       "       fecha   estacion   año      mes festivo dia_semana laboral  \\\n",
       "0 2018-01-01   invierno  2018    enero      sí      lunes      no   \n",
       "1 2018-02-01   invierno  2018  febrero      no     jueves      sí   \n",
       "2 2018-03-01   invierno  2018    marzo      no     jueves      sí   \n",
       "3 2018-04-01  primavera  2018    abril      no    domingo      no   \n",
       "4 2018-05-01  primavera  2018     mayo      no     martes      sí   \n",
       "\n",
       "             clima  sensacion_termica   humedad    viento  casual  casual_box  \n",
       "0           niebla          -0.453039  0.861178 -0.212121     331   16.397820  \n",
       "1           niebla          -0.489871  0.332332  0.696970     131   11.472437  \n",
       "2  cielo despejado          -1.093923 -0.912861  0.681818     120   11.076035  \n",
       "3  cielo despejado          -1.012891 -0.177284 -0.212121     108   10.613970  \n",
       "4  cielo despejado          -0.946593 -0.912861  0.060606      82    9.475537  "
      ]
     },
     "execution_count": 123,
     "metadata": {},
     "output_type": "execute_result"
    }
   ],
   "source": [
    "df.head()"
   ]
  },
  {
   "cell_type": "code",
   "execution_count": 124,
   "metadata": {},
   "outputs": [
    {
     "data": {
      "text/html": [
       "<div>\n",
       "<style scoped>\n",
       "    .dataframe tbody tr th:only-of-type {\n",
       "        vertical-align: middle;\n",
       "    }\n",
       "\n",
       "    .dataframe tbody tr th {\n",
       "        vertical-align: top;\n",
       "    }\n",
       "\n",
       "    .dataframe thead th {\n",
       "        text-align: right;\n",
       "    }\n",
       "</style>\n",
       "<table border=\"1\" class=\"dataframe\">\n",
       "  <thead>\n",
       "    <tr style=\"text-align: right;\">\n",
       "      <th></th>\n",
       "      <th>estacion</th>\n",
       "      <th>año</th>\n",
       "      <th>mes</th>\n",
       "      <th>festivo</th>\n",
       "      <th>dia_semana</th>\n",
       "      <th>laboral</th>\n",
       "      <th>clima</th>\n",
       "    </tr>\n",
       "  </thead>\n",
       "  <tbody>\n",
       "    <tr>\n",
       "      <th>0</th>\n",
       "      <td>invierno</td>\n",
       "      <td>2018</td>\n",
       "      <td>enero</td>\n",
       "      <td>sí</td>\n",
       "      <td>lunes</td>\n",
       "      <td>no</td>\n",
       "      <td>niebla</td>\n",
       "    </tr>\n",
       "    <tr>\n",
       "      <th>1</th>\n",
       "      <td>invierno</td>\n",
       "      <td>2018</td>\n",
       "      <td>febrero</td>\n",
       "      <td>no</td>\n",
       "      <td>jueves</td>\n",
       "      <td>sí</td>\n",
       "      <td>niebla</td>\n",
       "    </tr>\n",
       "    <tr>\n",
       "      <th>2</th>\n",
       "      <td>invierno</td>\n",
       "      <td>2018</td>\n",
       "      <td>marzo</td>\n",
       "      <td>no</td>\n",
       "      <td>jueves</td>\n",
       "      <td>sí</td>\n",
       "      <td>cielo despejado</td>\n",
       "    </tr>\n",
       "    <tr>\n",
       "      <th>3</th>\n",
       "      <td>primavera</td>\n",
       "      <td>2018</td>\n",
       "      <td>abril</td>\n",
       "      <td>no</td>\n",
       "      <td>domingo</td>\n",
       "      <td>no</td>\n",
       "      <td>cielo despejado</td>\n",
       "    </tr>\n",
       "    <tr>\n",
       "      <th>4</th>\n",
       "      <td>primavera</td>\n",
       "      <td>2018</td>\n",
       "      <td>mayo</td>\n",
       "      <td>no</td>\n",
       "      <td>martes</td>\n",
       "      <td>sí</td>\n",
       "      <td>cielo despejado</td>\n",
       "    </tr>\n",
       "  </tbody>\n",
       "</table>\n",
       "</div>"
      ],
      "text/plain": [
       "    estacion   año      mes festivo dia_semana laboral            clima\n",
       "0   invierno  2018    enero      sí      lunes      no           niebla\n",
       "1   invierno  2018  febrero      no     jueves      sí           niebla\n",
       "2   invierno  2018    marzo      no     jueves      sí  cielo despejado\n",
       "3  primavera  2018    abril      no    domingo      no  cielo despejado\n",
       "4  primavera  2018     mayo      no     martes      sí  cielo despejado"
      ]
     },
     "execution_count": 124,
     "metadata": {},
     "output_type": "execute_result"
    }
   ],
   "source": [
    "df_categoricas = df.select_dtypes(include = \"O\")\n",
    "df_categoricas.head()"
   ]
  },
  {
   "cell_type": "code",
   "execution_count": 125,
   "metadata": {},
   "outputs": [
    {
     "data": {
      "image/png": "[encoded data removed]",
      "text/plain": [
       "<Figure size 2160x1440 with 7 Axes>"
      ]
     },
     "metadata": {
      "needs_background": "light"
     },
     "output_type": "display_data"
    }
   ],
   "source": [
    "fig, axes = plt.subplots(4, 2, figsize = (30, 20))\n",
    "\n",
    "axes = axes.flat\n",
    "\n",
    "for i, columna in enumerate(df_categoricas): \n",
    "    sns.boxplot(\n",
    "        data = df,\n",
    "        x = columna,\n",
    "        y = \"casual\",\n",
    "        ax = axes[i])\n",
    "    \n",
    "    \n",
    "    axes[i].set_title(columna, fontsize = 15, fontweight = \"bold\")\n",
    "    axes[i].tick_params(labelsize = 15)\n",
    "    axes[i].grid(visible = True, linestyle = \"-\", linewidth = 1 )\n",
    "fig.delaxes(axes[-1])\n",
    "fig.tight_layout();"
   ]
  },
  {
   "cell_type": "code",
   "execution_count": 126,
   "metadata": {},
   "outputs": [
    {
     "data": {
      "text/plain": [
       "array([' niebla', 'cielo despejado', 'precipitaciones ligeras'],\n",
       "      dtype=object)"
      ]
     },
     "execution_count": 126,
     "metadata": {},
     "output_type": "execute_result"
    }
   ],
   "source": [
    "df[\"clima\"].unique()"
   ]
  },
  {
   "cell_type": "code",
   "execution_count": 127,
   "metadata": {},
   "outputs": [],
   "source": [
    "dict_estacion = {\"invierno\": 0, \"otoño\": 1, \"primavera\": 1.5, \"verano\": 2}\n",
    "dict_mes = {\"enero\": 0, \"febrero\": 0, \"diciembre\": 0, \"noviembre\": 0.5, \"marzo\": 1, \"abril\": 1, \"septiembre\": 1, \"octubre\": 1, \"mayo\": 2, \"junio\": 2, \"julio\": 2, \"agosto\": 2}\n",
    "dict_semana = {\"jueves\": 0, \"viernes\": 0, \"sábado\": 0, \"miércoles\": 0, \"domingo\": 0.5, \"martes\": 0.5, \"lunes\": 1}\n",
    "dict_clima = {\"precipitaciones ligeras\": 0, \" niebla\": 1, \"cielo despejado\": 2}\n",
    "dict_año = {\"2018\": 0, \"2019\": 1}\n",
    "dict_festivo = {\"sí\": 0, \"no\": 1}"
   ]
  },
  {
   "cell_type": "code",
   "execution_count": 128,
   "metadata": {},
   "outputs": [],
   "source": [
    "dict_map = {\"estacion\": dict_estacion, \"mes\": dict_mes, \"dia_semana\": dict_semana, \"clima\": dict_clima, \"año\": dict_año, \"festivo\": dict_festivo}\n",
    "for columna, orden in dict_map.items():\n",
    "    df[columna] = df[columna].map(orden)"
   ]
  },
  {
   "cell_type": "code",
   "execution_count": 129,
   "metadata": {},
   "outputs": [
    {
     "data": {
      "text/html": [
       "<div>\n",
       "<style scoped>\n",
       "    .dataframe tbody tr th:only-of-type {\n",
       "        vertical-align: middle;\n",
       "    }\n",
       "\n",
       "    .dataframe tbody tr th {\n",
       "        vertical-align: top;\n",
       "    }\n",
       "\n",
       "    .dataframe thead th {\n",
       "        text-align: right;\n",
       "    }\n",
       "</style>\n",
       "<table border=\"1\" class=\"dataframe\">\n",
       "  <thead>\n",
       "    <tr style=\"text-align: right;\">\n",
       "      <th></th>\n",
       "      <th>fecha</th>\n",
       "      <th>estacion</th>\n",
       "      <th>año</th>\n",
       "      <th>mes</th>\n",
       "      <th>festivo</th>\n",
       "      <th>dia_semana</th>\n",
       "      <th>laboral</th>\n",
       "      <th>clima</th>\n",
       "      <th>sensacion_termica</th>\n",
       "      <th>humedad</th>\n",
       "      <th>viento</th>\n",
       "      <th>casual</th>\n",
       "      <th>casual_box</th>\n",
       "    </tr>\n",
       "  </thead>\n",
       "  <tbody>\n",
       "    <tr>\n",
       "      <th>0</th>\n",
       "      <td>2018-01-01</td>\n",
       "      <td>0.0</td>\n",
       "      <td>0</td>\n",
       "      <td>0.0</td>\n",
       "      <td>0</td>\n",
       "      <td>1.0</td>\n",
       "      <td>no</td>\n",
       "      <td>1</td>\n",
       "      <td>-0.453039</td>\n",
       "      <td>0.861178</td>\n",
       "      <td>-0.212121</td>\n",
       "      <td>331</td>\n",
       "      <td>16.397820</td>\n",
       "    </tr>\n",
       "    <tr>\n",
       "      <th>1</th>\n",
       "      <td>2018-02-01</td>\n",
       "      <td>0.0</td>\n",
       "      <td>0</td>\n",
       "      <td>0.0</td>\n",
       "      <td>1</td>\n",
       "      <td>0.0</td>\n",
       "      <td>sí</td>\n",
       "      <td>1</td>\n",
       "      <td>-0.489871</td>\n",
       "      <td>0.332332</td>\n",
       "      <td>0.696970</td>\n",
       "      <td>131</td>\n",
       "      <td>11.472437</td>\n",
       "    </tr>\n",
       "    <tr>\n",
       "      <th>2</th>\n",
       "      <td>2018-03-01</td>\n",
       "      <td>0.0</td>\n",
       "      <td>0</td>\n",
       "      <td>1.0</td>\n",
       "      <td>1</td>\n",
       "      <td>0.0</td>\n",
       "      <td>sí</td>\n",
       "      <td>2</td>\n",
       "      <td>-1.093923</td>\n",
       "      <td>-0.912861</td>\n",
       "      <td>0.681818</td>\n",
       "      <td>120</td>\n",
       "      <td>11.076035</td>\n",
       "    </tr>\n",
       "    <tr>\n",
       "      <th>3</th>\n",
       "      <td>2018-04-01</td>\n",
       "      <td>1.5</td>\n",
       "      <td>0</td>\n",
       "      <td>1.0</td>\n",
       "      <td>1</td>\n",
       "      <td>0.5</td>\n",
       "      <td>no</td>\n",
       "      <td>2</td>\n",
       "      <td>-1.012891</td>\n",
       "      <td>-0.177284</td>\n",
       "      <td>-0.212121</td>\n",
       "      <td>108</td>\n",
       "      <td>10.613970</td>\n",
       "    </tr>\n",
       "    <tr>\n",
       "      <th>4</th>\n",
       "      <td>2018-05-01</td>\n",
       "      <td>1.5</td>\n",
       "      <td>0</td>\n",
       "      <td>2.0</td>\n",
       "      <td>1</td>\n",
       "      <td>0.5</td>\n",
       "      <td>sí</td>\n",
       "      <td>2</td>\n",
       "      <td>-0.946593</td>\n",
       "      <td>-0.912861</td>\n",
       "      <td>0.060606</td>\n",
       "      <td>82</td>\n",
       "      <td>9.475537</td>\n",
       "    </tr>\n",
       "  </tbody>\n",
       "</table>\n",
       "</div>"
      ],
      "text/plain": [
       "       fecha  estacion  año  mes  festivo  dia_semana laboral  clima  \\\n",
       "0 2018-01-01       0.0    0  0.0        0         1.0      no      1   \n",
       "1 2018-02-01       0.0    0  0.0        1         0.0      sí      1   \n",
       "2 2018-03-01       0.0    0  1.0        1         0.0      sí      2   \n",
       "3 2018-04-01       1.5    0  1.0        1         0.5      no      2   \n",
       "4 2018-05-01       1.5    0  2.0        1         0.5      sí      2   \n",
       "\n",
       "   sensacion_termica   humedad    viento  casual  casual_box  \n",
       "0          -0.453039  0.861178 -0.212121     331   16.397820  \n",
       "1          -0.489871  0.332332  0.696970     131   11.472437  \n",
       "2          -1.093923 -0.912861  0.681818     120   11.076035  \n",
       "3          -1.012891 -0.177284 -0.212121     108   10.613970  \n",
       "4          -0.946593 -0.912861  0.060606      82    9.475537  "
      ]
     },
     "execution_count": 129,
     "metadata": {},
     "output_type": "execute_result"
    }
   ],
   "source": [
    "df.head()"
   ]
  },
  {
   "cell_type": "code",
   "execution_count": 130,
   "metadata": {},
   "outputs": [],
   "source": [
    "dummies = pd.get_dummies(df[\"laboral\"], prefix = \"laboral\", prefix_sep=\"_\", dtype = int)"
   ]
  },
  {
   "cell_type": "code",
   "execution_count": 131,
   "metadata": {},
   "outputs": [
    {
     "data": {
      "text/html": [
       "<div>\n",
       "<style scoped>\n",
       "    .dataframe tbody tr th:only-of-type {\n",
       "        vertical-align: middle;\n",
       "    }\n",
       "\n",
       "    .dataframe tbody tr th {\n",
       "        vertical-align: top;\n",
       "    }\n",
       "\n",
       "    .dataframe thead th {\n",
       "        text-align: right;\n",
       "    }\n",
       "</style>\n",
       "<table border=\"1\" class=\"dataframe\">\n",
       "  <thead>\n",
       "    <tr style=\"text-align: right;\">\n",
       "      <th></th>\n",
       "      <th>fecha</th>\n",
       "      <th>estacion</th>\n",
       "      <th>año</th>\n",
       "      <th>mes</th>\n",
       "      <th>festivo</th>\n",
       "      <th>dia_semana</th>\n",
       "      <th>laboral</th>\n",
       "      <th>clima</th>\n",
       "      <th>sensacion_termica</th>\n",
       "      <th>humedad</th>\n",
       "      <th>viento</th>\n",
       "      <th>casual</th>\n",
       "      <th>casual_box</th>\n",
       "      <th>laboral_no</th>\n",
       "      <th>laboral_sí</th>\n",
       "    </tr>\n",
       "  </thead>\n",
       "  <tbody>\n",
       "    <tr>\n",
       "      <th>0</th>\n",
       "      <td>2018-01-01</td>\n",
       "      <td>0.0</td>\n",
       "      <td>0</td>\n",
       "      <td>0.0</td>\n",
       "      <td>0</td>\n",
       "      <td>1.0</td>\n",
       "      <td>no</td>\n",
       "      <td>1</td>\n",
       "      <td>-0.453039</td>\n",
       "      <td>0.861178</td>\n",
       "      <td>-0.212121</td>\n",
       "      <td>331</td>\n",
       "      <td>16.397820</td>\n",
       "      <td>1</td>\n",
       "      <td>0</td>\n",
       "    </tr>\n",
       "    <tr>\n",
       "      <th>1</th>\n",
       "      <td>2018-02-01</td>\n",
       "      <td>0.0</td>\n",
       "      <td>0</td>\n",
       "      <td>0.0</td>\n",
       "      <td>1</td>\n",
       "      <td>0.0</td>\n",
       "      <td>sí</td>\n",
       "      <td>1</td>\n",
       "      <td>-0.489871</td>\n",
       "      <td>0.332332</td>\n",
       "      <td>0.696970</td>\n",
       "      <td>131</td>\n",
       "      <td>11.472437</td>\n",
       "      <td>0</td>\n",
       "      <td>1</td>\n",
       "    </tr>\n",
       "  </tbody>\n",
       "</table>\n",
       "</div>"
      ],
      "text/plain": [
       "       fecha  estacion  año  mes  festivo  dia_semana laboral  clima  \\\n",
       "0 2018-01-01       0.0    0  0.0        0         1.0      no      1   \n",
       "1 2018-02-01       0.0    0  0.0        1         0.0      sí      1   \n",
       "\n",
       "   sensacion_termica   humedad    viento  casual  casual_box  laboral_no  \\\n",
       "0          -0.453039  0.861178 -0.212121     331   16.397820           1   \n",
       "1          -0.489871  0.332332  0.696970     131   11.472437           0   \n",
       "\n",
       "   laboral_sí  \n",
       "0           0  \n",
       "1           1  "
      ]
     },
     "execution_count": 131,
     "metadata": {},
     "output_type": "execute_result"
    }
   ],
   "source": [
    "df = pd.concat([df, dummies], axis = 1)\n",
    "df.head(2)"
   ]
  },
  {
   "cell_type": "code",
   "execution_count": 132,
   "metadata": {},
   "outputs": [
    {
     "data": {
      "text/html": [
       "<div>\n",
       "<style scoped>\n",
       "    .dataframe tbody tr th:only-of-type {\n",
       "        vertical-align: middle;\n",
       "    }\n",
       "\n",
       "    .dataframe tbody tr th {\n",
       "        vertical-align: top;\n",
       "    }\n",
       "\n",
       "    .dataframe thead th {\n",
       "        text-align: right;\n",
       "    }\n",
       "</style>\n",
       "<table border=\"1\" class=\"dataframe\">\n",
       "  <thead>\n",
       "    <tr style=\"text-align: right;\">\n",
       "      <th></th>\n",
       "      <th>fecha</th>\n",
       "      <th>estacion</th>\n",
       "      <th>año</th>\n",
       "      <th>mes</th>\n",
       "      <th>festivo</th>\n",
       "      <th>dia_semana</th>\n",
       "      <th>clima</th>\n",
       "      <th>sensacion_termica</th>\n",
       "      <th>humedad</th>\n",
       "      <th>viento</th>\n",
       "      <th>casual</th>\n",
       "      <th>casual_box</th>\n",
       "      <th>laboral_no</th>\n",
       "      <th>laboral_sí</th>\n",
       "    </tr>\n",
       "  </thead>\n",
       "  <tbody>\n",
       "    <tr>\n",
       "      <th>0</th>\n",
       "      <td>2018-01-01</td>\n",
       "      <td>0.0</td>\n",
       "      <td>0</td>\n",
       "      <td>0.0</td>\n",
       "      <td>0</td>\n",
       "      <td>1.0</td>\n",
       "      <td>1</td>\n",
       "      <td>-0.453039</td>\n",
       "      <td>0.861178</td>\n",
       "      <td>-0.212121</td>\n",
       "      <td>331</td>\n",
       "      <td>16.397820</td>\n",
       "      <td>1</td>\n",
       "      <td>0</td>\n",
       "    </tr>\n",
       "    <tr>\n",
       "      <th>1</th>\n",
       "      <td>2018-02-01</td>\n",
       "      <td>0.0</td>\n",
       "      <td>0</td>\n",
       "      <td>0.0</td>\n",
       "      <td>1</td>\n",
       "      <td>0.0</td>\n",
       "      <td>1</td>\n",
       "      <td>-0.489871</td>\n",
       "      <td>0.332332</td>\n",
       "      <td>0.696970</td>\n",
       "      <td>131</td>\n",
       "      <td>11.472437</td>\n",
       "      <td>0</td>\n",
       "      <td>1</td>\n",
       "    </tr>\n",
       "    <tr>\n",
       "      <th>2</th>\n",
       "      <td>2018-03-01</td>\n",
       "      <td>0.0</td>\n",
       "      <td>0</td>\n",
       "      <td>1.0</td>\n",
       "      <td>1</td>\n",
       "      <td>0.0</td>\n",
       "      <td>2</td>\n",
       "      <td>-1.093923</td>\n",
       "      <td>-0.912861</td>\n",
       "      <td>0.681818</td>\n",
       "      <td>120</td>\n",
       "      <td>11.076035</td>\n",
       "      <td>0</td>\n",
       "      <td>1</td>\n",
       "    </tr>\n",
       "    <tr>\n",
       "      <th>3</th>\n",
       "      <td>2018-04-01</td>\n",
       "      <td>1.5</td>\n",
       "      <td>0</td>\n",
       "      <td>1.0</td>\n",
       "      <td>1</td>\n",
       "      <td>0.5</td>\n",
       "      <td>2</td>\n",
       "      <td>-1.012891</td>\n",
       "      <td>-0.177284</td>\n",
       "      <td>-0.212121</td>\n",
       "      <td>108</td>\n",
       "      <td>10.613970</td>\n",
       "      <td>1</td>\n",
       "      <td>0</td>\n",
       "    </tr>\n",
       "    <tr>\n",
       "      <th>4</th>\n",
       "      <td>2018-05-01</td>\n",
       "      <td>1.5</td>\n",
       "      <td>0</td>\n",
       "      <td>2.0</td>\n",
       "      <td>1</td>\n",
       "      <td>0.5</td>\n",
       "      <td>2</td>\n",
       "      <td>-0.946593</td>\n",
       "      <td>-0.912861</td>\n",
       "      <td>0.060606</td>\n",
       "      <td>82</td>\n",
       "      <td>9.475537</td>\n",
       "      <td>0</td>\n",
       "      <td>1</td>\n",
       "    </tr>\n",
       "  </tbody>\n",
       "</table>\n",
       "</div>"
      ],
      "text/plain": [
       "       fecha  estacion  año  mes  festivo  dia_semana  clima  \\\n",
       "0 2018-01-01       0.0    0  0.0        0         1.0      1   \n",
       "1 2018-02-01       0.0    0  0.0        1         0.0      1   \n",
       "2 2018-03-01       0.0    0  1.0        1         0.0      2   \n",
       "3 2018-04-01       1.5    0  1.0        1         0.5      2   \n",
       "4 2018-05-01       1.5    0  2.0        1         0.5      2   \n",
       "\n",
       "   sensacion_termica   humedad    viento  casual  casual_box  laboral_no  \\\n",
       "0          -0.453039  0.861178 -0.212121     331   16.397820           1   \n",
       "1          -0.489871  0.332332  0.696970     131   11.472437           0   \n",
       "2          -1.093923 -0.912861  0.681818     120   11.076035           0   \n",
       "3          -1.012891 -0.177284 -0.212121     108   10.613970           1   \n",
       "4          -0.946593 -0.912861  0.060606      82    9.475537           0   \n",
       "\n",
       "   laboral_sí  \n",
       "0           0  \n",
       "1           1  \n",
       "2           1  \n",
       "3           0  \n",
       "4           1  "
      ]
     },
     "execution_count": 132,
     "metadata": {},
     "output_type": "execute_result"
    }
   ],
   "source": [
    "df = df.drop(\"laboral\", axis = 1)\n",
    "df.head()"
   ]
  },
  {
   "cell_type": "code",
   "execution_count": 133,
   "metadata": {},
   "outputs": [],
   "source": [
    "df.to_pickle(\"data/procesados_casual.pkl\")"
   ]
  }
 ],
 "metadata": {
  "kernelspec": {
   "display_name": "adalabenv",
   "language": "python",
   "name": "python3"
  },
  "language_info": {
   "codemirror_mode": {
    "name": "ipython",
    "version": 3
   },
   "file_extension": ".py",
   "mimetype": "text/x-python",
   "name": "python",
   "nbconvert_exporter": "python",
   "pygments_lexer": "ipython3",
   "version": "3.9.7"
  },
  "orig_nbformat": 4
 },
 "nbformat": 4,
 "nbformat_minor": 2
}
