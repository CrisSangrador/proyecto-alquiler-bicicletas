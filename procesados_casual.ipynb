{
 "cells": [
  {
   "cell_type": "code",
   "execution_count": 131,
   "metadata": {},
   "outputs": [],
   "source": [
    "import pandas as pd\n",
    "import numpy as np\n",
    "\n",
    "import seaborn as sns\n",
    "import matplotlib.pyplot as plt\n",
    "\n",
    "import sidetable as stb\n",
    "\n",
    "from scipy import stats\n",
    "import researchpy as rp\n",
    "from scipy.stats import levene\n",
    "import math\n",
    "from sklearn.preprocessing import MinMaxScaler\n",
    "from sklearn.preprocessing import OneHotEncoder\n",
    "\n",
    "from sklearn.preprocessing import RobustScaler\n",
    "\n",
    "pd.options.display.max_columns = None\n",
    "pd.options.display.max_rows = None\n",
    "\n",
    "import warnings\n",
    "warnings.filterwarnings('ignore')"
   ]
  },
  {
   "cell_type": "code",
   "execution_count": 132,
   "metadata": {},
   "outputs": [],
   "source": [
    "df = pd.read_pickle('data/bikes_limpio.pkl')"
   ]
  },
  {
   "cell_type": "code",
   "execution_count": 133,
   "metadata": {},
   "outputs": [],
   "source": [
    "# Comenzaremos eliminando las columnas de registrado y total, ya que en este modelo nuestra VR será casual.\n",
    "df = df.drop([\"registrado\", \"total\"], axis = 1)"
   ]
  },
  {
   "cell_type": "markdown",
   "metadata": {},
   "source": [
    "Comprobaremos si se cumplen las asunciones de nuestros datos:"
   ]
  },
  {
   "cell_type": "code",
   "execution_count": 134,
   "metadata": {},
   "outputs": [
    {
     "data": {
      "image/png": "[encoded data removed]",
      "text/plain": [
       "<Figure size 432x288 with 1 Axes>"
      ]
     },
     "metadata": {
      "needs_background": "light"
     },
     "output_type": "display_data"
    }
   ],
   "source": [
    "# Vamos a observar visualmente si nuestros datos son normales.\n",
    "sns.histplot(x = df[\"casual\"],  bins=20);"
   ]
  },
  {
   "cell_type": "markdown",
   "metadata": {},
   "source": [
    "En principio parece que nuestros datos no son normales ya que no se asemejan a una campana de Gauss, pero lo comprobaremos de forma analítica."
   ]
  },
  {
   "cell_type": "code",
   "execution_count": 135,
   "metadata": {},
   "outputs": [
    {
     "data": {
      "text/plain": [
       "ShapiroResult(statistic=0.8850967288017273, pvalue=7.660028716313278e-23)"
      ]
     },
     "execution_count": 135,
     "metadata": {},
     "output_type": "execute_result"
    }
   ],
   "source": [
    "# Comprobamos la normalidad con el test de shapiro ya que tenemos una muestra de datos pequeña:\n",
    "stats.shapiro(df[\"casual\"])"
   ]
  },
  {
   "cell_type": "markdown",
   "metadata": {},
   "source": [
    "El test nos confirma que nuestros datos NO son normales ya que nuestro p-value es menor a 0.05. Intentaremos normalizarlos."
   ]
  },
  {
   "cell_type": "code",
   "execution_count": 136,
   "metadata": {},
   "outputs": [],
   "source": [
    "# BOX-COX()\n",
    "df[\"casual_box\"], lambda_ajustada = stats.boxcox(df[\"casual\"])"
   ]
  },
  {
   "cell_type": "code",
   "execution_count": 137,
   "metadata": {},
   "outputs": [
    {
     "data": {
      "text/plain": [
       "ShapiroResult(statistic=0.9915913939476013, pvalue=0.000365116517059505)"
      ]
     },
     "execution_count": 137,
     "metadata": {},
     "output_type": "execute_result"
    }
   ],
   "source": [
    "stats.shapiro(df[\"casual_box\"])"
   ]
  },
  {
   "cell_type": "markdown",
   "metadata": {},
   "source": [
    "Después de intentar normalizar con varios métodos, el que mejor resultado nos ha dado es el BoxCox, no bostante tampoco consigue normalizar nuestros datos, por lo que la asunción de normalidad no se cumple y no podremos realizar el ANOVA ni el algoritmo de regresión lineal."
   ]
  },
  {
   "cell_type": "markdown",
   "metadata": {},
   "source": [
    "Pasamos a estandarizar nuestros datos."
   ]
  },
  {
   "cell_type": "code",
   "execution_count": 138,
   "metadata": {},
   "outputs": [],
   "source": [
    "#eliminamos la columna respuesta\n",
    "df_estand = df.select_dtypes(include = np.number).drop([\"casual\", \"casual_box\"], axis = 1)"
   ]
  },
  {
   "cell_type": "code",
   "execution_count": 139,
   "metadata": {},
   "outputs": [],
   "source": [
    "robust = RobustScaler()"
   ]
  },
  {
   "cell_type": "code",
   "execution_count": 140,
   "metadata": {},
   "outputs": [
    {
     "data": {
      "text/plain": [
       "RobustScaler()"
      ]
     },
     "execution_count": 140,
     "metadata": {},
     "output_type": "execute_result"
    }
   ],
   "source": [
    "robust.fit(df_estand)"
   ]
  },
  {
   "cell_type": "code",
   "execution_count": 141,
   "metadata": {},
   "outputs": [],
   "source": [
    "X_robust = robust.transform(df_estand)"
   ]
  },
  {
   "cell_type": "code",
   "execution_count": 142,
   "metadata": {},
   "outputs": [
    {
     "data": {
      "text/html": [
       "<div>\n",
       "<style scoped>\n",
       "    .dataframe tbody tr th:only-of-type {\n",
       "        vertical-align: middle;\n",
       "    }\n",
       "\n",
       "    .dataframe tbody tr th {\n",
       "        vertical-align: top;\n",
       "    }\n",
       "\n",
       "    .dataframe thead th {\n",
       "        text-align: right;\n",
       "    }\n",
       "</style>\n",
       "<table border=\"1\" class=\"dataframe\">\n",
       "  <thead>\n",
       "    <tr style=\"text-align: right;\">\n",
       "      <th></th>\n",
       "      <th>temperatura</th>\n",
       "      <th>humedad</th>\n",
       "      <th>viento</th>\n",
       "    </tr>\n",
       "  </thead>\n",
       "  <tbody>\n",
       "    <tr>\n",
       "      <th>0</th>\n",
       "      <td>-0.484733</td>\n",
       "      <td>0.861178</td>\n",
       "      <td>-0.212121</td>\n",
       "    </tr>\n",
       "    <tr>\n",
       "      <th>1</th>\n",
       "      <td>-0.423664</td>\n",
       "      <td>0.332332</td>\n",
       "      <td>0.696970</td>\n",
       "    </tr>\n",
       "  </tbody>\n",
       "</table>\n",
       "</div>"
      ],
      "text/plain": [
       "   temperatura   humedad    viento\n",
       "0    -0.484733  0.861178 -0.212121\n",
       "1    -0.423664  0.332332  0.696970"
      ]
     },
     "execution_count": 142,
     "metadata": {},
     "output_type": "execute_result"
    }
   ],
   "source": [
    "df_robust = pd.DataFrame(X_robust, columns = df_estand.columns)\n",
    "df_robust.head(2)"
   ]
  },
  {
   "cell_type": "code",
   "execution_count": 143,
   "metadata": {},
   "outputs": [],
   "source": [
    "df[df_robust.columns] = df_robust"
   ]
  },
  {
   "cell_type": "code",
   "execution_count": 144,
   "metadata": {},
   "outputs": [
    {
     "data": {
      "text/html": [
       "<div>\n",
       "<style scoped>\n",
       "    .dataframe tbody tr th:only-of-type {\n",
       "        vertical-align: middle;\n",
       "    }\n",
       "\n",
       "    .dataframe tbody tr th {\n",
       "        vertical-align: top;\n",
       "    }\n",
       "\n",
       "    .dataframe thead th {\n",
       "        text-align: right;\n",
       "    }\n",
       "</style>\n",
       "<table border=\"1\" class=\"dataframe\">\n",
       "  <thead>\n",
       "    <tr style=\"text-align: right;\">\n",
       "      <th></th>\n",
       "      <th>fecha</th>\n",
       "      <th>estacion</th>\n",
       "      <th>año</th>\n",
       "      <th>mes</th>\n",
       "      <th>festivo</th>\n",
       "      <th>dia_semana</th>\n",
       "      <th>laboral</th>\n",
       "      <th>clima</th>\n",
       "      <th>temperatura</th>\n",
       "      <th>humedad</th>\n",
       "      <th>viento</th>\n",
       "      <th>casual</th>\n",
       "      <th>casual_box</th>\n",
       "    </tr>\n",
       "  </thead>\n",
       "  <tbody>\n",
       "    <tr>\n",
       "      <th>0</th>\n",
       "      <td>2018-01-01</td>\n",
       "      <td>invierno</td>\n",
       "      <td>2018</td>\n",
       "      <td>enero</td>\n",
       "      <td>sí</td>\n",
       "      <td>lunes</td>\n",
       "      <td>no</td>\n",
       "      <td>niebla</td>\n",
       "      <td>-0.484733</td>\n",
       "      <td>0.861178</td>\n",
       "      <td>-0.212121</td>\n",
       "      <td>331</td>\n",
       "      <td>16.397820</td>\n",
       "    </tr>\n",
       "    <tr>\n",
       "      <th>1</th>\n",
       "      <td>2018-02-01</td>\n",
       "      <td>invierno</td>\n",
       "      <td>2018</td>\n",
       "      <td>febrero</td>\n",
       "      <td>no</td>\n",
       "      <td>jueves</td>\n",
       "      <td>sí</td>\n",
       "      <td>niebla</td>\n",
       "      <td>-0.423664</td>\n",
       "      <td>0.332332</td>\n",
       "      <td>0.696970</td>\n",
       "      <td>131</td>\n",
       "      <td>11.472437</td>\n",
       "    </tr>\n",
       "    <tr>\n",
       "      <th>2</th>\n",
       "      <td>2018-03-01</td>\n",
       "      <td>invierno</td>\n",
       "      <td>2018</td>\n",
       "      <td>marzo</td>\n",
       "      <td>no</td>\n",
       "      <td>jueves</td>\n",
       "      <td>sí</td>\n",
       "      <td>cielo despejado</td>\n",
       "      <td>-0.942748</td>\n",
       "      <td>-0.912861</td>\n",
       "      <td>0.681818</td>\n",
       "      <td>120</td>\n",
       "      <td>11.076035</td>\n",
       "    </tr>\n",
       "    <tr>\n",
       "      <th>3</th>\n",
       "      <td>2018-04-01</td>\n",
       "      <td>primavera</td>\n",
       "      <td>2018</td>\n",
       "      <td>abril</td>\n",
       "      <td>no</td>\n",
       "      <td>domingo</td>\n",
       "      <td>no</td>\n",
       "      <td>cielo despejado</td>\n",
       "      <td>-0.935115</td>\n",
       "      <td>-0.177284</td>\n",
       "      <td>-0.212121</td>\n",
       "      <td>108</td>\n",
       "      <td>10.613970</td>\n",
       "    </tr>\n",
       "    <tr>\n",
       "      <th>4</th>\n",
       "      <td>2018-05-01</td>\n",
       "      <td>primavera</td>\n",
       "      <td>2018</td>\n",
       "      <td>mayo</td>\n",
       "      <td>no</td>\n",
       "      <td>martes</td>\n",
       "      <td>sí</td>\n",
       "      <td>cielo despejado</td>\n",
       "      <td>-0.851145</td>\n",
       "      <td>-0.912861</td>\n",
       "      <td>0.060606</td>\n",
       "      <td>82</td>\n",
       "      <td>9.475537</td>\n",
       "    </tr>\n",
       "  </tbody>\n",
       "</table>\n",
       "</div>"
      ],
      "text/plain": [
       "       fecha   estacion   año      mes festivo dia_semana laboral  \\\n",
       "0 2018-01-01   invierno  2018    enero      sí      lunes      no   \n",
       "1 2018-02-01   invierno  2018  febrero      no     jueves      sí   \n",
       "2 2018-03-01   invierno  2018    marzo      no     jueves      sí   \n",
       "3 2018-04-01  primavera  2018    abril      no    domingo      no   \n",
       "4 2018-05-01  primavera  2018     mayo      no     martes      sí   \n",
       "\n",
       "             clima  temperatura   humedad    viento  casual  casual_box  \n",
       "0           niebla    -0.484733  0.861178 -0.212121     331   16.397820  \n",
       "1           niebla    -0.423664  0.332332  0.696970     131   11.472437  \n",
       "2  cielo despejado    -0.942748 -0.912861  0.681818     120   11.076035  \n",
       "3  cielo despejado    -0.935115 -0.177284 -0.212121     108   10.613970  \n",
       "4  cielo despejado    -0.851145 -0.912861  0.060606      82    9.475537  "
      ]
     },
     "execution_count": 144,
     "metadata": {},
     "output_type": "execute_result"
    }
   ],
   "source": [
    "df.head()"
   ]
  },
  {
   "cell_type": "code",
   "execution_count": 145,
   "metadata": {},
   "outputs": [
    {
     "data": {
      "text/html": [
       "<div>\n",
       "<style scoped>\n",
       "    .dataframe tbody tr th:only-of-type {\n",
       "        vertical-align: middle;\n",
       "    }\n",
       "\n",
       "    .dataframe tbody tr th {\n",
       "        vertical-align: top;\n",
       "    }\n",
       "\n",
       "    .dataframe thead th {\n",
       "        text-align: right;\n",
       "    }\n",
       "</style>\n",
       "<table border=\"1\" class=\"dataframe\">\n",
       "  <thead>\n",
       "    <tr style=\"text-align: right;\">\n",
       "      <th></th>\n",
       "      <th>estacion</th>\n",
       "      <th>año</th>\n",
       "      <th>mes</th>\n",
       "      <th>festivo</th>\n",
       "      <th>dia_semana</th>\n",
       "      <th>laboral</th>\n",
       "      <th>clima</th>\n",
       "    </tr>\n",
       "  </thead>\n",
       "  <tbody>\n",
       "    <tr>\n",
       "      <th>0</th>\n",
       "      <td>invierno</td>\n",
       "      <td>2018</td>\n",
       "      <td>enero</td>\n",
       "      <td>sí</td>\n",
       "      <td>lunes</td>\n",
       "      <td>no</td>\n",
       "      <td>niebla</td>\n",
       "    </tr>\n",
       "    <tr>\n",
       "      <th>1</th>\n",
       "      <td>invierno</td>\n",
       "      <td>2018</td>\n",
       "      <td>febrero</td>\n",
       "      <td>no</td>\n",
       "      <td>jueves</td>\n",
       "      <td>sí</td>\n",
       "      <td>niebla</td>\n",
       "    </tr>\n",
       "    <tr>\n",
       "      <th>2</th>\n",
       "      <td>invierno</td>\n",
       "      <td>2018</td>\n",
       "      <td>marzo</td>\n",
       "      <td>no</td>\n",
       "      <td>jueves</td>\n",
       "      <td>sí</td>\n",
       "      <td>cielo despejado</td>\n",
       "    </tr>\n",
       "    <tr>\n",
       "      <th>3</th>\n",
       "      <td>primavera</td>\n",
       "      <td>2018</td>\n",
       "      <td>abril</td>\n",
       "      <td>no</td>\n",
       "      <td>domingo</td>\n",
       "      <td>no</td>\n",
       "      <td>cielo despejado</td>\n",
       "    </tr>\n",
       "    <tr>\n",
       "      <th>4</th>\n",
       "      <td>primavera</td>\n",
       "      <td>2018</td>\n",
       "      <td>mayo</td>\n",
       "      <td>no</td>\n",
       "      <td>martes</td>\n",
       "      <td>sí</td>\n",
       "      <td>cielo despejado</td>\n",
       "    </tr>\n",
       "  </tbody>\n",
       "</table>\n",
       "</div>"
      ],
      "text/plain": [
       "    estacion   año      mes festivo dia_semana laboral            clima\n",
       "0   invierno  2018    enero      sí      lunes      no           niebla\n",
       "1   invierno  2018  febrero      no     jueves      sí           niebla\n",
       "2   invierno  2018    marzo      no     jueves      sí  cielo despejado\n",
       "3  primavera  2018    abril      no    domingo      no  cielo despejado\n",
       "4  primavera  2018     mayo      no     martes      sí  cielo despejado"
      ]
     },
     "execution_count": 145,
     "metadata": {},
     "output_type": "execute_result"
    }
   ],
   "source": [
    "df_categoricas = df.select_dtypes(include = \"O\")\n",
    "df_categoricas.head()"
   ]
  },
  {
   "cell_type": "code",
   "execution_count": 146,
   "metadata": {},
   "outputs": [
    {
     "data": {
      "image/png": "[encoded data removed]",
      "text/plain": [
       "<Figure size 2160x1440 with 7 Axes>"
      ]
     },
     "metadata": {
      "needs_background": "light"
     },
     "output_type": "display_data"
    }
   ],
   "source": [
    "fig, axes = plt.subplots(4, 2, figsize = (30, 20))\n",
    "\n",
    "axes = axes.flat\n",
    "\n",
    "for i, columna in enumerate(df_categoricas): \n",
    "    sns.boxplot(\n",
    "        data = df,\n",
    "        x = columna,\n",
    "        y = \"casual\",\n",
    "        ax = axes[i])\n",
    "    \n",
    "    \n",
    "    axes[i].set_title(columna, fontsize = 15, fontweight = \"bold\")\n",
    "    axes[i].tick_params(labelsize = 15)\n",
    "    axes[i].grid(visible = True, linestyle = \"-\", linewidth = 1 )\n",
    "fig.delaxes(axes[-1])\n",
    "fig.tight_layout();"
   ]
  },
  {
   "cell_type": "code",
   "execution_count": 147,
   "metadata": {},
   "outputs": [],
   "source": [
    "dict_estacion = {\"invierno\": 0, \"otoño\": 1, \"primavera\": 1.5, \"verano\": 2}\n",
    "dict_mes = {\"enero\": 0, \"febrero\": 0, \"diciembre\": 0, \"noviembre\": 1, \"marzo\": 2, \"abril\": 2, \"septiembre\": 2, \"octubre\": 2, \"mayo\": 3, \"junio\": 3, \"julio\": 3, \"agosto\": 3}\n",
    "dict_semana = {\"jueves\": 0, \"viernes\": 0, \"sábado\": 0, \"miércoles\": 0, \"domingo\": 0.5, \"martes\": 0.5, \"lunes\": 1}\n",
    "dict_clima = {\"precipitaciones ligeras\": 0, \"niebla\": 1, \"cielo despejado\": 2}\n",
    "dict_año = {\"2018\": 0, \"2019\": 1}\n",
    "dict_festivo = {\"sí\": 0, \"no\": 1}"
   ]
  },
  {
   "cell_type": "code",
   "execution_count": 148,
   "metadata": {},
   "outputs": [],
   "source": [
    "dict_map = {\"estacion\": dict_estacion, \"mes\": dict_mes, \"dia_semana\": dict_semana, \"clima\": dict_clima, \"año\": dict_año, \"festivo\": dict_festivo}\n",
    "for columna, orden in dict_map.items():\n",
    "    df[columna] = df[columna].map(orden)"
   ]
  },
  {
   "cell_type": "code",
   "execution_count": 149,
   "metadata": {},
   "outputs": [
    {
     "data": {
      "text/html": [
       "<div>\n",
       "<style scoped>\n",
       "    .dataframe tbody tr th:only-of-type {\n",
       "        vertical-align: middle;\n",
       "    }\n",
       "\n",
       "    .dataframe tbody tr th {\n",
       "        vertical-align: top;\n",
       "    }\n",
       "\n",
       "    .dataframe thead th {\n",
       "        text-align: right;\n",
       "    }\n",
       "</style>\n",
       "<table border=\"1\" class=\"dataframe\">\n",
       "  <thead>\n",
       "    <tr style=\"text-align: right;\">\n",
       "      <th></th>\n",
       "      <th>fecha</th>\n",
       "      <th>estacion</th>\n",
       "      <th>año</th>\n",
       "      <th>mes</th>\n",
       "      <th>festivo</th>\n",
       "      <th>dia_semana</th>\n",
       "      <th>laboral</th>\n",
       "      <th>clima</th>\n",
       "      <th>temperatura</th>\n",
       "      <th>humedad</th>\n",
       "      <th>viento</th>\n",
       "      <th>casual</th>\n",
       "      <th>casual_box</th>\n",
       "    </tr>\n",
       "  </thead>\n",
       "  <tbody>\n",
       "    <tr>\n",
       "      <th>0</th>\n",
       "      <td>2018-01-01</td>\n",
       "      <td>0.0</td>\n",
       "      <td>0</td>\n",
       "      <td>0</td>\n",
       "      <td>0</td>\n",
       "      <td>1.0</td>\n",
       "      <td>no</td>\n",
       "      <td>1</td>\n",
       "      <td>-0.484733</td>\n",
       "      <td>0.861178</td>\n",
       "      <td>-0.212121</td>\n",
       "      <td>331</td>\n",
       "      <td>16.397820</td>\n",
       "    </tr>\n",
       "    <tr>\n",
       "      <th>1</th>\n",
       "      <td>2018-02-01</td>\n",
       "      <td>0.0</td>\n",
       "      <td>0</td>\n",
       "      <td>0</td>\n",
       "      <td>1</td>\n",
       "      <td>0.0</td>\n",
       "      <td>sí</td>\n",
       "      <td>1</td>\n",
       "      <td>-0.423664</td>\n",
       "      <td>0.332332</td>\n",
       "      <td>0.696970</td>\n",
       "      <td>131</td>\n",
       "      <td>11.472437</td>\n",
       "    </tr>\n",
       "    <tr>\n",
       "      <th>2</th>\n",
       "      <td>2018-03-01</td>\n",
       "      <td>0.0</td>\n",
       "      <td>0</td>\n",
       "      <td>2</td>\n",
       "      <td>1</td>\n",
       "      <td>0.0</td>\n",
       "      <td>sí</td>\n",
       "      <td>2</td>\n",
       "      <td>-0.942748</td>\n",
       "      <td>-0.912861</td>\n",
       "      <td>0.681818</td>\n",
       "      <td>120</td>\n",
       "      <td>11.076035</td>\n",
       "    </tr>\n",
       "    <tr>\n",
       "      <th>3</th>\n",
       "      <td>2018-04-01</td>\n",
       "      <td>1.5</td>\n",
       "      <td>0</td>\n",
       "      <td>2</td>\n",
       "      <td>1</td>\n",
       "      <td>0.5</td>\n",
       "      <td>no</td>\n",
       "      <td>2</td>\n",
       "      <td>-0.935115</td>\n",
       "      <td>-0.177284</td>\n",
       "      <td>-0.212121</td>\n",
       "      <td>108</td>\n",
       "      <td>10.613970</td>\n",
       "    </tr>\n",
       "    <tr>\n",
       "      <th>4</th>\n",
       "      <td>2018-05-01</td>\n",
       "      <td>1.5</td>\n",
       "      <td>0</td>\n",
       "      <td>3</td>\n",
       "      <td>1</td>\n",
       "      <td>0.5</td>\n",
       "      <td>sí</td>\n",
       "      <td>2</td>\n",
       "      <td>-0.851145</td>\n",
       "      <td>-0.912861</td>\n",
       "      <td>0.060606</td>\n",
       "      <td>82</td>\n",
       "      <td>9.475537</td>\n",
       "    </tr>\n",
       "  </tbody>\n",
       "</table>\n",
       "</div>"
      ],
      "text/plain": [
       "       fecha  estacion  año  mes  festivo  dia_semana laboral  clima  \\\n",
       "0 2018-01-01       0.0    0    0        0         1.0      no      1   \n",
       "1 2018-02-01       0.0    0    0        1         0.0      sí      1   \n",
       "2 2018-03-01       0.0    0    2        1         0.0      sí      2   \n",
       "3 2018-04-01       1.5    0    2        1         0.5      no      2   \n",
       "4 2018-05-01       1.5    0    3        1         0.5      sí      2   \n",
       "\n",
       "   temperatura   humedad    viento  casual  casual_box  \n",
       "0    -0.484733  0.861178 -0.212121     331   16.397820  \n",
       "1    -0.423664  0.332332  0.696970     131   11.472437  \n",
       "2    -0.942748 -0.912861  0.681818     120   11.076035  \n",
       "3    -0.935115 -0.177284 -0.212121     108   10.613970  \n",
       "4    -0.851145 -0.912861  0.060606      82    9.475537  "
      ]
     },
     "execution_count": 149,
     "metadata": {},
     "output_type": "execute_result"
    }
   ],
   "source": [
    "df.head()"
   ]
  },
  {
   "cell_type": "code",
   "execution_count": 150,
   "metadata": {},
   "outputs": [],
   "source": [
    "# dummies = pd.get_dummies(df[\"laboral\"], prefix = \"laboral\", prefix_sep=\"_\", dtype = int)"
   ]
  },
  {
   "cell_type": "code",
   "execution_count": 156,
   "metadata": {},
   "outputs": [
    {
     "ename": "AttributeError",
     "evalue": "'OneHotEncoder' object has no attribute 'feature_names_in_'",
     "output_type": "error",
     "traceback": [
      "\u001b[0;31m---------------------------------------------------------------------------\u001b[0m",
      "\u001b[0;31mAttributeError\u001b[0m                            Traceback (most recent call last)",
      "\u001b[0;32m/tmp/ipykernel_513/4226674549.py\u001b[0m in \u001b[0;36m<module>\u001b[0;34m\u001b[0m\n\u001b[1;32m      2\u001b[0m \u001b[0mtransformados\u001b[0m \u001b[0;34m=\u001b[0m \u001b[0moh\u001b[0m\u001b[0;34m.\u001b[0m\u001b[0mfit_transform\u001b[0m\u001b[0;34m(\u001b[0m\u001b[0mdf\u001b[0m\u001b[0;34m[\u001b[0m\u001b[0;34m[\u001b[0m\u001b[0;34m\"laboral\"\u001b[0m\u001b[0;34m]\u001b[0m\u001b[0;34m]\u001b[0m\u001b[0;34m)\u001b[0m\u001b[0;34m\u001b[0m\u001b[0;34m\u001b[0m\u001b[0m\n\u001b[1;32m      3\u001b[0m \u001b[0moh_df\u001b[0m \u001b[0;34m=\u001b[0m \u001b[0mpd\u001b[0m\u001b[0;34m.\u001b[0m\u001b[0mDataFrame\u001b[0m\u001b[0;34m(\u001b[0m\u001b[0mtransformados\u001b[0m\u001b[0;34m.\u001b[0m\u001b[0mtoarray\u001b[0m\u001b[0;34m(\u001b[0m\u001b[0;34m)\u001b[0m\u001b[0;34m)\u001b[0m\u001b[0;34m\u001b[0m\u001b[0;34m\u001b[0m\u001b[0m\n\u001b[0;32m----> 4\u001b[0;31m \u001b[0moh_df\u001b[0m\u001b[0;34m.\u001b[0m\u001b[0mcolumns\u001b[0m \u001b[0;34m=\u001b[0m \u001b[0moh\u001b[0m\u001b[0;34m.\u001b[0m\u001b[0mfeature_names_in_\u001b[0m\u001b[0;34m(\u001b[0m\u001b[0;34m)\u001b[0m\u001b[0;34m\u001b[0m\u001b[0;34m\u001b[0m\u001b[0m\n\u001b[0m\u001b[1;32m      5\u001b[0m \u001b[0mdf\u001b[0m \u001b[0;34m=\u001b[0m \u001b[0mpd\u001b[0m\u001b[0;34m.\u001b[0m\u001b[0mconcat\u001b[0m\u001b[0;34m(\u001b[0m\u001b[0;34m[\u001b[0m\u001b[0mdf\u001b[0m\u001b[0;34m,\u001b[0m\u001b[0moh_df\u001b[0m\u001b[0;34m]\u001b[0m\u001b[0;34m,\u001b[0m\u001b[0maxis\u001b[0m\u001b[0;34m=\u001b[0m\u001b[0;36m1\u001b[0m\u001b[0;34m)\u001b[0m\u001b[0;34m\u001b[0m\u001b[0;34m\u001b[0m\u001b[0m\n",
      "\u001b[0;31mAttributeError\u001b[0m: 'OneHotEncoder' object has no attribute 'feature_names_in_'"
     ]
    }
   ],
   "source": [
    "oh = OneHotEncoder()\n",
    "transformados = oh.fit_transform(df[[\"laboral\"]])\n",
    "oh_df = pd.DataFrame(transformados.toarray())\n",
    "oh_df.columns = oh.feature_names_in_()\n",
    "df = pd.concat([df,oh_df],axis=1)"
   ]
  },
  {
   "cell_type": "code",
   "execution_count": null,
   "metadata": {},
   "outputs": [
    {
     "data": {
      "text/html": [
       "<div>\n",
       "<style scoped>\n",
       "    .dataframe tbody tr th:only-of-type {\n",
       "        vertical-align: middle;\n",
       "    }\n",
       "\n",
       "    .dataframe tbody tr th {\n",
       "        vertical-align: top;\n",
       "    }\n",
       "\n",
       "    .dataframe thead th {\n",
       "        text-align: right;\n",
       "    }\n",
       "</style>\n",
       "<table border=\"1\" class=\"dataframe\">\n",
       "  <thead>\n",
       "    <tr style=\"text-align: right;\">\n",
       "      <th></th>\n",
       "      <th>fecha</th>\n",
       "      <th>estacion</th>\n",
       "      <th>año</th>\n",
       "      <th>mes</th>\n",
       "      <th>festivo</th>\n",
       "      <th>dia_semana</th>\n",
       "      <th>clima</th>\n",
       "      <th>temperatura</th>\n",
       "      <th>humedad</th>\n",
       "      <th>viento</th>\n",
       "      <th>casual</th>\n",
       "      <th>casual_box</th>\n",
       "      <th>x0_no</th>\n",
       "      <th>x0_sí</th>\n",
       "    </tr>\n",
       "  </thead>\n",
       "  <tbody>\n",
       "    <tr>\n",
       "      <th>0</th>\n",
       "      <td>2018-01-01</td>\n",
       "      <td>0.0</td>\n",
       "      <td>0</td>\n",
       "      <td>0</td>\n",
       "      <td>0</td>\n",
       "      <td>1.0</td>\n",
       "      <td>1</td>\n",
       "      <td>-0.484733</td>\n",
       "      <td>0.861178</td>\n",
       "      <td>-0.212121</td>\n",
       "      <td>331</td>\n",
       "      <td>16.397820</td>\n",
       "      <td>1.0</td>\n",
       "      <td>0.0</td>\n",
       "    </tr>\n",
       "    <tr>\n",
       "      <th>1</th>\n",
       "      <td>2018-02-01</td>\n",
       "      <td>0.0</td>\n",
       "      <td>0</td>\n",
       "      <td>0</td>\n",
       "      <td>1</td>\n",
       "      <td>0.0</td>\n",
       "      <td>1</td>\n",
       "      <td>-0.423664</td>\n",
       "      <td>0.332332</td>\n",
       "      <td>0.696970</td>\n",
       "      <td>131</td>\n",
       "      <td>11.472437</td>\n",
       "      <td>0.0</td>\n",
       "      <td>1.0</td>\n",
       "    </tr>\n",
       "    <tr>\n",
       "      <th>2</th>\n",
       "      <td>2018-03-01</td>\n",
       "      <td>0.0</td>\n",
       "      <td>0</td>\n",
       "      <td>2</td>\n",
       "      <td>1</td>\n",
       "      <td>0.0</td>\n",
       "      <td>2</td>\n",
       "      <td>-0.942748</td>\n",
       "      <td>-0.912861</td>\n",
       "      <td>0.681818</td>\n",
       "      <td>120</td>\n",
       "      <td>11.076035</td>\n",
       "      <td>0.0</td>\n",
       "      <td>1.0</td>\n",
       "    </tr>\n",
       "    <tr>\n",
       "      <th>3</th>\n",
       "      <td>2018-04-01</td>\n",
       "      <td>1.5</td>\n",
       "      <td>0</td>\n",
       "      <td>2</td>\n",
       "      <td>1</td>\n",
       "      <td>0.5</td>\n",
       "      <td>2</td>\n",
       "      <td>-0.935115</td>\n",
       "      <td>-0.177284</td>\n",
       "      <td>-0.212121</td>\n",
       "      <td>108</td>\n",
       "      <td>10.613970</td>\n",
       "      <td>1.0</td>\n",
       "      <td>0.0</td>\n",
       "    </tr>\n",
       "    <tr>\n",
       "      <th>4</th>\n",
       "      <td>2018-05-01</td>\n",
       "      <td>1.5</td>\n",
       "      <td>0</td>\n",
       "      <td>3</td>\n",
       "      <td>1</td>\n",
       "      <td>0.5</td>\n",
       "      <td>2</td>\n",
       "      <td>-0.851145</td>\n",
       "      <td>-0.912861</td>\n",
       "      <td>0.060606</td>\n",
       "      <td>82</td>\n",
       "      <td>9.475537</td>\n",
       "      <td>0.0</td>\n",
       "      <td>1.0</td>\n",
       "    </tr>\n",
       "  </tbody>\n",
       "</table>\n",
       "</div>"
      ],
      "text/plain": [
       "       fecha  estacion  año  mes  festivo  dia_semana  clima  temperatura  \\\n",
       "0 2018-01-01       0.0    0    0        0         1.0      1    -0.484733   \n",
       "1 2018-02-01       0.0    0    0        1         0.0      1    -0.423664   \n",
       "2 2018-03-01       0.0    0    2        1         0.0      2    -0.942748   \n",
       "3 2018-04-01       1.5    0    2        1         0.5      2    -0.935115   \n",
       "4 2018-05-01       1.5    0    3        1         0.5      2    -0.851145   \n",
       "\n",
       "    humedad    viento  casual  casual_box  x0_no  x0_sí  \n",
       "0  0.861178 -0.212121     331   16.397820    1.0    0.0  \n",
       "1  0.332332  0.696970     131   11.472437    0.0    1.0  \n",
       "2 -0.912861  0.681818     120   11.076035    0.0    1.0  \n",
       "3 -0.177284 -0.212121     108   10.613970    1.0    0.0  \n",
       "4 -0.912861  0.060606      82    9.475537    0.0    1.0  "
      ]
     },
     "execution_count": 129,
     "metadata": {},
     "output_type": "execute_result"
    }
   ],
   "source": [
    "df.head()"
   ]
  },
  {
   "cell_type": "code",
   "execution_count": null,
   "metadata": {},
   "outputs": [
    {
     "data": {
      "text/html": [
       "<div>\n",
       "<style scoped>\n",
       "    .dataframe tbody tr th:only-of-type {\n",
       "        vertical-align: middle;\n",
       "    }\n",
       "\n",
       "    .dataframe tbody tr th {\n",
       "        vertical-align: top;\n",
       "    }\n",
       "\n",
       "    .dataframe thead th {\n",
       "        text-align: right;\n",
       "    }\n",
       "</style>\n",
       "<table border=\"1\" class=\"dataframe\">\n",
       "  <thead>\n",
       "    <tr style=\"text-align: right;\">\n",
       "      <th></th>\n",
       "      <th>fecha</th>\n",
       "      <th>estacion</th>\n",
       "      <th>año</th>\n",
       "      <th>mes</th>\n",
       "      <th>festivo</th>\n",
       "      <th>dia_semana</th>\n",
       "      <th>clima</th>\n",
       "      <th>temperatura</th>\n",
       "      <th>humedad</th>\n",
       "      <th>viento</th>\n",
       "      <th>casual</th>\n",
       "      <th>casual_box</th>\n",
       "      <th>x0_no</th>\n",
       "      <th>x0_sí</th>\n",
       "    </tr>\n",
       "  </thead>\n",
       "  <tbody>\n",
       "    <tr>\n",
       "      <th>0</th>\n",
       "      <td>2018-01-01</td>\n",
       "      <td>0.0</td>\n",
       "      <td>0</td>\n",
       "      <td>0</td>\n",
       "      <td>0</td>\n",
       "      <td>1.0</td>\n",
       "      <td>1</td>\n",
       "      <td>-0.484733</td>\n",
       "      <td>0.861178</td>\n",
       "      <td>-0.212121</td>\n",
       "      <td>331</td>\n",
       "      <td>16.397820</td>\n",
       "      <td>1.0</td>\n",
       "      <td>0.0</td>\n",
       "    </tr>\n",
       "    <tr>\n",
       "      <th>1</th>\n",
       "      <td>2018-02-01</td>\n",
       "      <td>0.0</td>\n",
       "      <td>0</td>\n",
       "      <td>0</td>\n",
       "      <td>1</td>\n",
       "      <td>0.0</td>\n",
       "      <td>1</td>\n",
       "      <td>-0.423664</td>\n",
       "      <td>0.332332</td>\n",
       "      <td>0.696970</td>\n",
       "      <td>131</td>\n",
       "      <td>11.472437</td>\n",
       "      <td>0.0</td>\n",
       "      <td>1.0</td>\n",
       "    </tr>\n",
       "    <tr>\n",
       "      <th>2</th>\n",
       "      <td>2018-03-01</td>\n",
       "      <td>0.0</td>\n",
       "      <td>0</td>\n",
       "      <td>2</td>\n",
       "      <td>1</td>\n",
       "      <td>0.0</td>\n",
       "      <td>2</td>\n",
       "      <td>-0.942748</td>\n",
       "      <td>-0.912861</td>\n",
       "      <td>0.681818</td>\n",
       "      <td>120</td>\n",
       "      <td>11.076035</td>\n",
       "      <td>0.0</td>\n",
       "      <td>1.0</td>\n",
       "    </tr>\n",
       "    <tr>\n",
       "      <th>3</th>\n",
       "      <td>2018-04-01</td>\n",
       "      <td>1.5</td>\n",
       "      <td>0</td>\n",
       "      <td>2</td>\n",
       "      <td>1</td>\n",
       "      <td>0.5</td>\n",
       "      <td>2</td>\n",
       "      <td>-0.935115</td>\n",
       "      <td>-0.177284</td>\n",
       "      <td>-0.212121</td>\n",
       "      <td>108</td>\n",
       "      <td>10.613970</td>\n",
       "      <td>1.0</td>\n",
       "      <td>0.0</td>\n",
       "    </tr>\n",
       "    <tr>\n",
       "      <th>4</th>\n",
       "      <td>2018-05-01</td>\n",
       "      <td>1.5</td>\n",
       "      <td>0</td>\n",
       "      <td>3</td>\n",
       "      <td>1</td>\n",
       "      <td>0.5</td>\n",
       "      <td>2</td>\n",
       "      <td>-0.851145</td>\n",
       "      <td>-0.912861</td>\n",
       "      <td>0.060606</td>\n",
       "      <td>82</td>\n",
       "      <td>9.475537</td>\n",
       "      <td>0.0</td>\n",
       "      <td>1.0</td>\n",
       "    </tr>\n",
       "  </tbody>\n",
       "</table>\n",
       "</div>"
      ],
      "text/plain": [
       "       fecha  estacion  año  mes  festivo  dia_semana  clima  temperatura  \\\n",
       "0 2018-01-01       0.0    0    0        0         1.0      1    -0.484733   \n",
       "1 2018-02-01       0.0    0    0        1         0.0      1    -0.423664   \n",
       "2 2018-03-01       0.0    0    2        1         0.0      2    -0.942748   \n",
       "3 2018-04-01       1.5    0    2        1         0.5      2    -0.935115   \n",
       "4 2018-05-01       1.5    0    3        1         0.5      2    -0.851145   \n",
       "\n",
       "    humedad    viento  casual  casual_box  x0_no  x0_sí  \n",
       "0  0.861178 -0.212121     331   16.397820    1.0    0.0  \n",
       "1  0.332332  0.696970     131   11.472437    0.0    1.0  \n",
       "2 -0.912861  0.681818     120   11.076035    0.0    1.0  \n",
       "3 -0.177284 -0.212121     108   10.613970    1.0    0.0  \n",
       "4 -0.912861  0.060606      82    9.475537    0.0    1.0  "
      ]
     },
     "execution_count": 127,
     "metadata": {},
     "output_type": "execute_result"
    }
   ],
   "source": [
    "#df = df.drop(\"laboral\", axis = 1)\n",
    "#df.head()"
   ]
  },
  {
   "cell_type": "code",
   "execution_count": null,
   "metadata": {},
   "outputs": [],
   "source": [
    "df.to_pickle(\"data/procesados_casual.pkl\")\n",
    "df.to_csv(\"data/procesados_casual.csv\")"
   ]
  }
 ],
 "metadata": {
  "kernelspec": {
   "display_name": "adalabenv",
   "language": "python",
   "name": "python3"
  },
  "language_info": {
   "codemirror_mode": {
    "name": "ipython",
    "version": 3
   },
   "file_extension": ".py",
   "mimetype": "text/x-python",
   "name": "python",
   "nbconvert_exporter": "python",
   "pygments_lexer": "ipython3",
   "version": "3.9.7"
  },
  "orig_nbformat": 4
 },
 "nbformat": 4,
 "nbformat_minor": 2
}
