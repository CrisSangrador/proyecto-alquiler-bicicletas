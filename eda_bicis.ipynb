{
 "cells": [
  {
   "cell_type": "code",
   "execution_count": 1,
   "metadata": {},
   "outputs": [],
   "source": [
    "import pandas as pd\n",
    "import numpy as np\n",
    "\n",
    "import seaborn as sns\n",
    "import matplotlib.pyplot as plt\n",
    "\n",
    "import sidetable as stb\n",
    "\n",
    "from scipy.stats import skew\n",
    "from scipy.stats import kurtosistest\n",
    "from scipy import stats\n",
    "from scipy.stats import kstest\n",
    "\n",
    "from datetime import datetime, timedelta\n",
    "\n",
    "from datetime import date\n",
    "import holidays \n",
    "\n",
    "pd.options.display.max_columns = None\n",
    "pd.options.display.max_rows = None"
   ]
  },
  {
   "cell_type": "code",
   "execution_count": 3,
   "metadata": {},
   "outputs": [
    {
     "data": {
      "text/html": [
       "<div>\n",
       "<style scoped>\n",
       "    .dataframe tbody tr th:only-of-type {\n",
       "        vertical-align: middle;\n",
       "    }\n",
       "\n",
       "    .dataframe tbody tr th {\n",
       "        vertical-align: top;\n",
       "    }\n",
       "\n",
       "    .dataframe thead th {\n",
       "        text-align: right;\n",
       "    }\n",
       "</style>\n",
       "<table border=\"1\" class=\"dataframe\">\n",
       "  <thead>\n",
       "    <tr style=\"text-align: right;\">\n",
       "      <th></th>\n",
       "      <th>instant</th>\n",
       "      <th>dteday</th>\n",
       "      <th>season</th>\n",
       "      <th>yr</th>\n",
       "      <th>mnth</th>\n",
       "      <th>holiday</th>\n",
       "      <th>weekday</th>\n",
       "      <th>workingday</th>\n",
       "      <th>weathersit</th>\n",
       "      <th>temp</th>\n",
       "      <th>atemp</th>\n",
       "      <th>hum</th>\n",
       "      <th>windspeed</th>\n",
       "      <th>casual</th>\n",
       "      <th>registered</th>\n",
       "      <th>cnt</th>\n",
       "    </tr>\n",
       "  </thead>\n",
       "  <tbody>\n",
       "    <tr>\n",
       "      <th>0</th>\n",
       "      <td>1</td>\n",
       "      <td>01-01-2018</td>\n",
       "      <td>spring</td>\n",
       "      <td>0</td>\n",
       "      <td>1</td>\n",
       "      <td>0</td>\n",
       "      <td>6</td>\n",
       "      <td>0</td>\n",
       "      <td>2</td>\n",
       "      <td>14.110847</td>\n",
       "      <td>18.18125</td>\n",
       "      <td>80.5833</td>\n",
       "      <td>10.749882</td>\n",
       "      <td>331</td>\n",
       "      <td>654</td>\n",
       "      <td>985</td>\n",
       "    </tr>\n",
       "  </tbody>\n",
       "</table>\n",
       "</div>"
      ],
      "text/plain": [
       "   instant      dteday  season  yr  mnth  holiday  weekday  workingday  \\\n",
       "0        1  01-01-2018  spring   0     1        0        6           0   \n",
       "\n",
       "   weathersit       temp     atemp      hum  windspeed  casual  registered  \\\n",
       "0           2  14.110847  18.18125  80.5833  10.749882     331         654   \n",
       "\n",
       "   cnt  \n",
       "0  985  "
      ]
     },
     "execution_count": 3,
     "metadata": {},
     "output_type": "execute_result"
    }
   ],
   "source": [
    "df = pd.read_csv('data/bikes.csv', index_col = 0).reset_index(drop = True)\n",
    "df.head(1)"
   ]
  },
  {
   "cell_type": "code",
   "execution_count": 4,
   "metadata": {},
   "outputs": [
    {
     "name": "stdout",
     "output_type": "stream",
     "text": [
      "<class 'pandas.core.frame.DataFrame'>\n",
      "RangeIndex: 730 entries, 0 to 729\n",
      "Data columns (total 16 columns):\n",
      " #   Column      Non-Null Count  Dtype  \n",
      "---  ------      --------------  -----  \n",
      " 0   instant     730 non-null    int64  \n",
      " 1   dteday      730 non-null    object \n",
      " 2   season      730 non-null    object \n",
      " 3   yr          730 non-null    int64  \n",
      " 4   mnth        730 non-null    int64  \n",
      " 5   holiday     730 non-null    int64  \n",
      " 6   weekday     730 non-null    int64  \n",
      " 7   workingday  730 non-null    int64  \n",
      " 8   weathersit  730 non-null    int64  \n",
      " 9   temp        730 non-null    float64\n",
      " 10  atemp       730 non-null    float64\n",
      " 11  hum         730 non-null    float64\n",
      " 12  windspeed   730 non-null    float64\n",
      " 13  casual      730 non-null    int64  \n",
      " 14  registered  730 non-null    int64  \n",
      " 15  cnt         730 non-null    int64  \n",
      "dtypes: float64(4), int64(10), object(2)\n",
      "memory usage: 91.4+ KB\n"
     ]
    }
   ],
   "source": [
    "df.info()"
   ]
  },
  {
   "cell_type": "code",
   "execution_count": 5,
   "metadata": {},
   "outputs": [
    {
     "data": {
      "text/plain": [
       "(730, 16)"
      ]
     },
     "execution_count": 5,
     "metadata": {},
     "output_type": "execute_result"
    }
   ],
   "source": [
    "# Vemos las filas y columnas que tenemos:\n",
    "\n",
    "df.shape"
   ]
  },
  {
   "cell_type": "code",
   "execution_count": 6,
   "metadata": {},
   "outputs": [
    {
     "data": {
      "text/plain": [
       "instant       0\n",
       "dteday        0\n",
       "season        0\n",
       "yr            0\n",
       "mnth          0\n",
       "holiday       0\n",
       "weekday       0\n",
       "workingday    0\n",
       "weathersit    0\n",
       "temp          0\n",
       "atemp         0\n",
       "hum           0\n",
       "windspeed     0\n",
       "casual        0\n",
       "registered    0\n",
       "cnt           0\n",
       "dtype: int64"
      ]
     },
     "execution_count": 6,
     "metadata": {},
     "output_type": "execute_result"
    }
   ],
   "source": [
    "# Visualizamos que no tenemos nulos:\n",
    "\n",
    "df.isnull().sum()"
   ]
  },
  {
   "cell_type": "code",
   "execution_count": 7,
   "metadata": {},
   "outputs": [
    {
     "data": {
      "text/plain": [
       "0"
      ]
     },
     "execution_count": 7,
     "metadata": {},
     "output_type": "execute_result"
    }
   ],
   "source": [
    "# Comprobamos que no hay duplicados:\n",
    "\n",
    "df.duplicated().sum()"
   ]
  },
  {
   "cell_type": "code",
   "execution_count": 8,
   "metadata": {},
   "outputs": [
    {
     "data": {
      "text/html": [
       "<div>\n",
       "<style scoped>\n",
       "    .dataframe tbody tr th:only-of-type {\n",
       "        vertical-align: middle;\n",
       "    }\n",
       "\n",
       "    .dataframe tbody tr th {\n",
       "        vertical-align: top;\n",
       "    }\n",
       "\n",
       "    .dataframe thead th {\n",
       "        text-align: right;\n",
       "    }\n",
       "</style>\n",
       "<table border=\"1\" class=\"dataframe\">\n",
       "  <thead>\n",
       "    <tr style=\"text-align: right;\">\n",
       "      <th></th>\n",
       "      <th>count</th>\n",
       "      <th>mean</th>\n",
       "      <th>std</th>\n",
       "      <th>min</th>\n",
       "      <th>25%</th>\n",
       "      <th>50%</th>\n",
       "      <th>75%</th>\n",
       "      <th>max</th>\n",
       "    </tr>\n",
       "  </thead>\n",
       "  <tbody>\n",
       "    <tr>\n",
       "      <th>instant</th>\n",
       "      <td>730.0</td>\n",
       "      <td>365.500000</td>\n",
       "      <td>210.877136</td>\n",
       "      <td>1.000000</td>\n",
       "      <td>183.250000</td>\n",
       "      <td>365.500000</td>\n",
       "      <td>547.750000</td>\n",
       "      <td>730.000000</td>\n",
       "    </tr>\n",
       "    <tr>\n",
       "      <th>yr</th>\n",
       "      <td>730.0</td>\n",
       "      <td>0.500000</td>\n",
       "      <td>0.500343</td>\n",
       "      <td>0.000000</td>\n",
       "      <td>0.000000</td>\n",
       "      <td>0.500000</td>\n",
       "      <td>1.000000</td>\n",
       "      <td>1.000000</td>\n",
       "    </tr>\n",
       "    <tr>\n",
       "      <th>mnth</th>\n",
       "      <td>730.0</td>\n",
       "      <td>6.526027</td>\n",
       "      <td>3.450215</td>\n",
       "      <td>1.000000</td>\n",
       "      <td>4.000000</td>\n",
       "      <td>7.000000</td>\n",
       "      <td>10.000000</td>\n",
       "      <td>12.000000</td>\n",
       "    </tr>\n",
       "    <tr>\n",
       "      <th>holiday</th>\n",
       "      <td>730.0</td>\n",
       "      <td>0.028767</td>\n",
       "      <td>0.167266</td>\n",
       "      <td>0.000000</td>\n",
       "      <td>0.000000</td>\n",
       "      <td>0.000000</td>\n",
       "      <td>0.000000</td>\n",
       "      <td>1.000000</td>\n",
       "    </tr>\n",
       "    <tr>\n",
       "      <th>weekday</th>\n",
       "      <td>730.0</td>\n",
       "      <td>2.997260</td>\n",
       "      <td>2.006161</td>\n",
       "      <td>0.000000</td>\n",
       "      <td>1.000000</td>\n",
       "      <td>3.000000</td>\n",
       "      <td>5.000000</td>\n",
       "      <td>6.000000</td>\n",
       "    </tr>\n",
       "    <tr>\n",
       "      <th>workingday</th>\n",
       "      <td>730.0</td>\n",
       "      <td>0.683562</td>\n",
       "      <td>0.465405</td>\n",
       "      <td>0.000000</td>\n",
       "      <td>0.000000</td>\n",
       "      <td>1.000000</td>\n",
       "      <td>1.000000</td>\n",
       "      <td>1.000000</td>\n",
       "    </tr>\n",
       "    <tr>\n",
       "      <th>weathersit</th>\n",
       "      <td>730.0</td>\n",
       "      <td>1.394521</td>\n",
       "      <td>0.544807</td>\n",
       "      <td>1.000000</td>\n",
       "      <td>1.000000</td>\n",
       "      <td>1.000000</td>\n",
       "      <td>2.000000</td>\n",
       "      <td>3.000000</td>\n",
       "    </tr>\n",
       "    <tr>\n",
       "      <th>temp</th>\n",
       "      <td>730.0</td>\n",
       "      <td>20.319259</td>\n",
       "      <td>7.506729</td>\n",
       "      <td>2.424346</td>\n",
       "      <td>13.811885</td>\n",
       "      <td>20.465826</td>\n",
       "      <td>26.880615</td>\n",
       "      <td>35.328347</td>\n",
       "    </tr>\n",
       "    <tr>\n",
       "      <th>atemp</th>\n",
       "      <td>730.0</td>\n",
       "      <td>23.726322</td>\n",
       "      <td>8.150308</td>\n",
       "      <td>3.953480</td>\n",
       "      <td>16.889713</td>\n",
       "      <td>24.368225</td>\n",
       "      <td>30.445775</td>\n",
       "      <td>42.044800</td>\n",
       "    </tr>\n",
       "    <tr>\n",
       "      <th>hum</th>\n",
       "      <td>730.0</td>\n",
       "      <td>62.765175</td>\n",
       "      <td>14.237589</td>\n",
       "      <td>0.000000</td>\n",
       "      <td>52.000000</td>\n",
       "      <td>62.625000</td>\n",
       "      <td>72.989575</td>\n",
       "      <td>97.250000</td>\n",
       "    </tr>\n",
       "    <tr>\n",
       "      <th>windspeed</th>\n",
       "      <td>730.0</td>\n",
       "      <td>12.763620</td>\n",
       "      <td>5.195841</td>\n",
       "      <td>1.500244</td>\n",
       "      <td>9.041650</td>\n",
       "      <td>12.125325</td>\n",
       "      <td>15.625589</td>\n",
       "      <td>34.000021</td>\n",
       "    </tr>\n",
       "    <tr>\n",
       "      <th>casual</th>\n",
       "      <td>730.0</td>\n",
       "      <td>849.249315</td>\n",
       "      <td>686.479875</td>\n",
       "      <td>2.000000</td>\n",
       "      <td>316.250000</td>\n",
       "      <td>717.000000</td>\n",
       "      <td>1096.500000</td>\n",
       "      <td>3410.000000</td>\n",
       "    </tr>\n",
       "    <tr>\n",
       "      <th>registered</th>\n",
       "      <td>730.0</td>\n",
       "      <td>3658.757534</td>\n",
       "      <td>1559.758728</td>\n",
       "      <td>20.000000</td>\n",
       "      <td>2502.250000</td>\n",
       "      <td>3664.500000</td>\n",
       "      <td>4783.250000</td>\n",
       "      <td>6946.000000</td>\n",
       "    </tr>\n",
       "    <tr>\n",
       "      <th>cnt</th>\n",
       "      <td>730.0</td>\n",
       "      <td>4508.006849</td>\n",
       "      <td>1936.011647</td>\n",
       "      <td>22.000000</td>\n",
       "      <td>3169.750000</td>\n",
       "      <td>4548.500000</td>\n",
       "      <td>5966.000000</td>\n",
       "      <td>8714.000000</td>\n",
       "    </tr>\n",
       "  </tbody>\n",
       "</table>\n",
       "</div>"
      ],
      "text/plain": [
       "            count         mean          std        min          25%  \\\n",
       "instant     730.0   365.500000   210.877136   1.000000   183.250000   \n",
       "yr          730.0     0.500000     0.500343   0.000000     0.000000   \n",
       "mnth        730.0     6.526027     3.450215   1.000000     4.000000   \n",
       "holiday     730.0     0.028767     0.167266   0.000000     0.000000   \n",
       "weekday     730.0     2.997260     2.006161   0.000000     1.000000   \n",
       "workingday  730.0     0.683562     0.465405   0.000000     0.000000   \n",
       "weathersit  730.0     1.394521     0.544807   1.000000     1.000000   \n",
       "temp        730.0    20.319259     7.506729   2.424346    13.811885   \n",
       "atemp       730.0    23.726322     8.150308   3.953480    16.889713   \n",
       "hum         730.0    62.765175    14.237589   0.000000    52.000000   \n",
       "windspeed   730.0    12.763620     5.195841   1.500244     9.041650   \n",
       "casual      730.0   849.249315   686.479875   2.000000   316.250000   \n",
       "registered  730.0  3658.757534  1559.758728  20.000000  2502.250000   \n",
       "cnt         730.0  4508.006849  1936.011647  22.000000  3169.750000   \n",
       "\n",
       "                    50%          75%          max  \n",
       "instant      365.500000   547.750000   730.000000  \n",
       "yr             0.500000     1.000000     1.000000  \n",
       "mnth           7.000000    10.000000    12.000000  \n",
       "holiday        0.000000     0.000000     1.000000  \n",
       "weekday        3.000000     5.000000     6.000000  \n",
       "workingday     1.000000     1.000000     1.000000  \n",
       "weathersit     1.000000     2.000000     3.000000  \n",
       "temp          20.465826    26.880615    35.328347  \n",
       "atemp         24.368225    30.445775    42.044800  \n",
       "hum           62.625000    72.989575    97.250000  \n",
       "windspeed     12.125325    15.625589    34.000021  \n",
       "casual       717.000000  1096.500000  3410.000000  \n",
       "registered  3664.500000  4783.250000  6946.000000  \n",
       "cnt         4548.500000  5966.000000  8714.000000  "
      ]
     },
     "execution_count": 8,
     "metadata": {},
     "output_type": "execute_result"
    }
   ],
   "source": [
    "df.describe().T"
   ]
  },
  {
   "cell_type": "code",
   "execution_count": 9,
   "metadata": {},
   "outputs": [
    {
     "data": {
      "text/plain": [
       "['instant',\n",
       " 'dteday',\n",
       " 'season',\n",
       " 'yr',\n",
       " 'mnth',\n",
       " 'holiday',\n",
       " 'weekday',\n",
       " 'workingday',\n",
       " 'weathersit',\n",
       " 'temp',\n",
       " 'atemp',\n",
       " 'hum',\n",
       " 'windspeed',\n",
       " 'casual',\n",
       " 'registered',\n",
       " 'cnt']"
      ]
     },
     "execution_count": 9,
     "metadata": {},
     "output_type": "execute_result"
    }
   ],
   "source": [
    "lista_columnas = list(df.columns)\n",
    "lista_columnas"
   ]
  },
  {
   "cell_type": "code",
   "execution_count": 10,
   "metadata": {},
   "outputs": [],
   "source": [
    "#cambiamos el nombre de las columnas para que sea más comprensible.\n",
    "\n",
    "dicc_columnas = {'instant' : 'momento',\n",
    "                'dteday' : 'fecha',\n",
    "                'season' : 'estacion',\n",
    "                'yr' : 'año',\n",
    "                'mnth' : 'mes',\n",
    "                'holiday' : 'festivo',\n",
    "                'weekday' : 'dia_semana',\n",
    "                'workingday' : 'laboral',\n",
    "                'weathersit' : 'clima',\n",
    "                'temp' : 'temperatura',\n",
    "                'atemp' : 'sensacion_termica',\n",
    "                'hum' : 'humedad',\n",
    "                'windspeed' : 'viento',\n",
    "                'casual' : 'casual',\n",
    "                'registered' : 'registrado',\n",
    "                'cnt' : 'total'}\n",
    "\n",
    "df.rename(columns = dicc_columnas, inplace = True)"
   ]
  },
  {
   "cell_type": "code",
   "execution_count": 11,
   "metadata": {},
   "outputs": [],
   "source": [
    "columnas_unicos = ['estacion', 'año', 'mes', 'festivo', 'dia_semana', 'laboral', 'clima']"
   ]
  },
  {
   "cell_type": "code",
   "execution_count": 12,
   "metadata": {},
   "outputs": [
    {
     "name": "stdout",
     "output_type": "stream",
     "text": [
      "La columna estacion tiene como valores únicos: spring, summer, autumn, winter.\n",
      "La columna año tiene como valores únicos: 0, 1.\n",
      "La columna mes tiene como valores únicos: 1, 2, 3, 4, 5, 6, 7, 8, 9, 10, 11, 12.\n",
      "La columna festivo tiene como valores únicos: 0, 1.\n",
      "La columna dia_semana tiene como valores únicos: 6, 0, 1, 2, 3, 4, 5.\n",
      "La columna laboral tiene como valores únicos: 0, 1.\n",
      "La columna clima tiene como valores únicos: 2, 1, 3.\n"
     ]
    }
   ],
   "source": [
    "# Revisamos los valores únicos para las columnas seleccionadas.\n",
    "\n",
    "for col in columnas_unicos:\n",
    "    print(f'La columna {col} tiene como valores únicos: {\", \".join(map(str, df[col].unique()))}.')"
   ]
  },
  {
   "cell_type": "code",
   "execution_count": 13,
   "metadata": {},
   "outputs": [
    {
     "name": "stderr",
     "output_type": "stream",
     "text": [
      "/tmp/ipykernel_3392/2154209664.py:3: UserWarning: Parsing dates in %d-%m-%Y format when dayfirst=False (the default) was specified. Pass `dayfirst=True` or specify a format to silence this warning.\n",
      "  df[\"fecha\"] = df[\"fecha\"].apply(pd.to_datetime)\n"
     ]
    }
   ],
   "source": [
    "# Cambiamos el formato de esta columna a datetime:\n",
    "\n",
    "df[\"fecha\"] = df[\"fecha\"].apply(pd.to_datetime)"
   ]
  },
  {
   "cell_type": "code",
   "execution_count": 14,
   "metadata": {},
   "outputs": [],
   "source": [
    "# Modificamos la columna de años ya que únicamente había 0 y 1.\n",
    "\n",
    "df[\"año\"]= df[\"fecha\"].apply(lambda x: x.strftime(\"%Y\"))\n"
   ]
  },
  {
   "cell_type": "code",
   "execution_count": 15,
   "metadata": {},
   "outputs": [
    {
     "data": {
      "text/html": [
       "<div>\n",
       "<style scoped>\n",
       "    .dataframe tbody tr th:only-of-type {\n",
       "        vertical-align: middle;\n",
       "    }\n",
       "\n",
       "    .dataframe tbody tr th {\n",
       "        vertical-align: top;\n",
       "    }\n",
       "\n",
       "    .dataframe thead th {\n",
       "        text-align: right;\n",
       "    }\n",
       "</style>\n",
       "<table border=\"1\" class=\"dataframe\">\n",
       "  <thead>\n",
       "    <tr style=\"text-align: right;\">\n",
       "      <th></th>\n",
       "      <th>momento</th>\n",
       "      <th>fecha</th>\n",
       "      <th>estacion</th>\n",
       "      <th>año</th>\n",
       "      <th>mes</th>\n",
       "      <th>festivo</th>\n",
       "      <th>dia_semana</th>\n",
       "      <th>laboral</th>\n",
       "      <th>clima</th>\n",
       "      <th>temperatura</th>\n",
       "      <th>sensacion_termica</th>\n",
       "      <th>humedad</th>\n",
       "      <th>viento</th>\n",
       "      <th>casual</th>\n",
       "      <th>registrado</th>\n",
       "      <th>total</th>\n",
       "    </tr>\n",
       "  </thead>\n",
       "  <tbody>\n",
       "    <tr>\n",
       "      <th>91</th>\n",
       "      <td>92</td>\n",
       "      <td>2018-02-04</td>\n",
       "      <td>summer</td>\n",
       "      <td>2018</td>\n",
       "      <td>4</td>\n",
       "      <td>0</td>\n",
       "      <td>6</td>\n",
       "      <td>0</td>\n",
       "      <td>2</td>\n",
       "      <td>12.915000</td>\n",
       "      <td>15.78185</td>\n",
       "      <td>65.3750</td>\n",
       "      <td>13.208782</td>\n",
       "      <td>898</td>\n",
       "      <td>1354</td>\n",
       "      <td>2252</td>\n",
       "    </tr>\n",
       "    <tr>\n",
       "      <th>427</th>\n",
       "      <td>428</td>\n",
       "      <td>2019-04-03</td>\n",
       "      <td>spring</td>\n",
       "      <td>2019</td>\n",
       "      <td>3</td>\n",
       "      <td>0</td>\n",
       "      <td>0</td>\n",
       "      <td>0</td>\n",
       "      <td>1</td>\n",
       "      <td>13.359153</td>\n",
       "      <td>15.15105</td>\n",
       "      <td>40.3333</td>\n",
       "      <td>22.416257</td>\n",
       "      <td>710</td>\n",
       "      <td>2713</td>\n",
       "      <td>3423</td>\n",
       "    </tr>\n",
       "    <tr>\n",
       "      <th>508</th>\n",
       "      <td>509</td>\n",
       "      <td>2019-05-24</td>\n",
       "      <td>summer</td>\n",
       "      <td>2019</td>\n",
       "      <td>5</td>\n",
       "      <td>0</td>\n",
       "      <td>4</td>\n",
       "      <td>1</td>\n",
       "      <td>1</td>\n",
       "      <td>26.855000</td>\n",
       "      <td>30.33500</td>\n",
       "      <td>71.6667</td>\n",
       "      <td>11.584032</td>\n",
       "      <td>1059</td>\n",
       "      <td>5711</td>\n",
       "      <td>6770</td>\n",
       "    </tr>\n",
       "    <tr>\n",
       "      <th>371</th>\n",
       "      <td>372</td>\n",
       "      <td>2019-07-01</td>\n",
       "      <td>spring</td>\n",
       "      <td>2019</td>\n",
       "      <td>1</td>\n",
       "      <td>0</td>\n",
       "      <td>6</td>\n",
       "      <td>0</td>\n",
       "      <td>1</td>\n",
       "      <td>16.126653</td>\n",
       "      <td>19.53895</td>\n",
       "      <td>53.1667</td>\n",
       "      <td>11.708786</td>\n",
       "      <td>1070</td>\n",
       "      <td>3451</td>\n",
       "      <td>4521</td>\n",
       "    </tr>\n",
       "    <tr>\n",
       "      <th>662</th>\n",
       "      <td>663</td>\n",
       "      <td>2019-10-25</td>\n",
       "      <td>winter</td>\n",
       "      <td>2019</td>\n",
       "      <td>10</td>\n",
       "      <td>0</td>\n",
       "      <td>4</td>\n",
       "      <td>1</td>\n",
       "      <td>2</td>\n",
       "      <td>22.550000</td>\n",
       "      <td>26.48440</td>\n",
       "      <td>80.0417</td>\n",
       "      <td>8.333125</td>\n",
       "      <td>875</td>\n",
       "      <td>6484</td>\n",
       "      <td>7359</td>\n",
       "    </tr>\n",
       "  </tbody>\n",
       "</table>\n",
       "</div>"
      ],
      "text/plain": [
       "     momento      fecha estacion   año  mes  festivo  dia_semana  laboral  \\\n",
       "91        92 2018-02-04   summer  2018    4        0           6        0   \n",
       "427      428 2019-04-03   spring  2019    3        0           0        0   \n",
       "508      509 2019-05-24   summer  2019    5        0           4        1   \n",
       "371      372 2019-07-01   spring  2019    1        0           6        0   \n",
       "662      663 2019-10-25   winter  2019   10        0           4        1   \n",
       "\n",
       "     clima  temperatura  sensacion_termica  humedad     viento  casual  \\\n",
       "91       2    12.915000           15.78185  65.3750  13.208782     898   \n",
       "427      1    13.359153           15.15105  40.3333  22.416257     710   \n",
       "508      1    26.855000           30.33500  71.6667  11.584032    1059   \n",
       "371      1    16.126653           19.53895  53.1667  11.708786    1070   \n",
       "662      2    22.550000           26.48440  80.0417   8.333125     875   \n",
       "\n",
       "     registrado  total  \n",
       "91         1354   2252  \n",
       "427        2713   3423  \n",
       "508        5711   6770  \n",
       "371        3451   4521  \n",
       "662        6484   7359  "
      ]
     },
     "execution_count": 15,
     "metadata": {},
     "output_type": "execute_result"
    }
   ],
   "source": [
    "df.sample(5)"
   ]
  },
  {
   "cell_type": "code",
   "execution_count": 16,
   "metadata": {},
   "outputs": [
    {
     "data": {
      "text/plain": [
       "array(['January', 'February', 'March', 'April', 'May', 'June', 'July',\n",
       "       'August', 'September', 'October', 'November', 'December'],\n",
       "      dtype=object)"
      ]
     },
     "execution_count": 16,
     "metadata": {},
     "output_type": "execute_result"
    }
   ],
   "source": [
    "# Nos hemos dado cuenta de que los meses de la columna \"mes\" no coinciden con los de \"fecha\". Por tanto, vamos a ajustarlos según el mes indicado fecha.\n",
    "\n",
    "df[\"mes\"] = df[\"fecha\"].dt.strftime(\"%B\")\n",
    "df[\"mes\"].unique()"
   ]
  },
  {
   "cell_type": "code",
   "execution_count": 17,
   "metadata": {},
   "outputs": [],
   "source": [
    "meses = {\"January\": \"enero\", \"February\" : \"febrero\", \"March\" : \"marzo\", \"April\" : \"abril\", \"May\" : \"mayo\", \"June\" : \"junio\", \"July\" : \"julio\",\n",
    "       \"August\": \"agosto\", \"September\" : \"septiembre\", \"October\" : \"octubre\", \"November\" : \"noviembre\", \"December\" : \"diciembre\"}\n",
    "\n",
    "\n",
    "df[\"mes\"] = df[\"mes\"].map(meses)"
   ]
  },
  {
   "cell_type": "code",
   "execution_count": 18,
   "metadata": {},
   "outputs": [
    {
     "data": {
      "text/plain": [
       "array(['enero', 'febrero', 'marzo', 'abril', 'mayo', 'junio', 'julio',\n",
       "       'agosto', 'septiembre', 'octubre', 'noviembre', 'diciembre'],\n",
       "      dtype=object)"
      ]
     },
     "execution_count": 18,
     "metadata": {},
     "output_type": "execute_result"
    }
   ],
   "source": [
    "df[\"mes\"].unique()"
   ]
  },
  {
   "cell_type": "code",
   "execution_count": 19,
   "metadata": {},
   "outputs": [],
   "source": [
    "# Nos hemos dado cuenta de que las estaciones están cambiadas, así que vamos a ponerlas bien.\n",
    "\n",
    "def cambiar_estacion (fecha):\n",
    "\n",
    "    \"\"\"Recibe una columna en formato datetime, y en función del mes y el día devuelve la estación del año a la que pertenece\"\"\"\n",
    "    \n",
    "    mes = fecha.strftime(\"%B\")\n",
    "    dia = int(fecha.strftime(\"%d\"))\n",
    "    \n",
    "    if mes == \"April\" or mes == \"May\":\n",
    "        return \"primavera\"\n",
    "    \n",
    "    elif (mes == \"March\" and dia >= 20) or (mes == \"June\" and dia <= 20):\n",
    "        return \"primavera\"\n",
    "    \n",
    "    if mes == \"July\" or  mes == \"August\":\n",
    "        return \"verano\"\n",
    "    \n",
    "    elif (mes == \"June\" and dia >= 21) or (mes == \"September\" and dia <= 22):\n",
    "        return \"verano\"\n",
    "    \n",
    "    if mes == \"October\" or mes == \"November\":\n",
    "        return \"otoño\"\n",
    "    \n",
    "    elif (mes == \"September\" and dia >= 23) or (mes == \"December\" and dia <= 21):\n",
    "        return \"otoño\"\n",
    "    else:\n",
    "        return \"invierno\"\n"
   ]
  },
  {
   "cell_type": "code",
   "execution_count": 20,
   "metadata": {},
   "outputs": [],
   "source": [
    "df[\"estacion\"] = df[\"fecha\"].apply(cambiar_estacion)"
   ]
  },
  {
   "cell_type": "code",
   "execution_count": 21,
   "metadata": {},
   "outputs": [
    {
     "data": {
      "text/plain": [
       "array(['invierno', 'primavera', 'verano', 'otoño'], dtype=object)"
      ]
     },
     "execution_count": 21,
     "metadata": {},
     "output_type": "execute_result"
    }
   ],
   "source": [
    "df[\"estacion\"].unique()"
   ]
  },
  {
   "cell_type": "code",
   "execution_count": 22,
   "metadata": {},
   "outputs": [],
   "source": [
    "#También están mal los días de la semana, así que los cambiamos. \n",
    "\n",
    "df[\"dia_semana\"] = df[\"fecha\"].dt.strftime(\"%w\")"
   ]
  },
  {
   "cell_type": "code",
   "execution_count": 23,
   "metadata": {},
   "outputs": [],
   "source": [
    "def cambiar_dia(columna):\n",
    "\n",
    "    \"\"\"Recibe una columna tipo datetime y devuelve el día de la semana que corresponde.\"\"\"\n",
    "    \n",
    "    dia = columna.strftime(\"%w\")\n",
    "    \n",
    "    if dia == \"0\":\n",
    "        return \"domingo\" \n",
    "    elif dia == \"1\":\n",
    "        return \"lunes\"\n",
    "    elif dia == \"2\":\n",
    "        return \"martes\"\n",
    "    elif dia == \"3\":\n",
    "        return \"miércoles\"\n",
    "    elif dia == \"4\":\n",
    "        return \"jueves\"\n",
    "    elif dia == \"5\":\n",
    "        return \"viernes\"\n",
    "    else:\n",
    "        return \"sábado\""
   ]
  },
  {
   "cell_type": "code",
   "execution_count": 24,
   "metadata": {},
   "outputs": [],
   "source": [
    "df[\"dia_semana\"] = df[\"fecha\"].apply(cambiar_dia)"
   ]
  },
  {
   "cell_type": "code",
   "execution_count": 25,
   "metadata": {},
   "outputs": [
    {
     "data": {
      "text/plain": [
       "RangeIndex(start=0, stop=730, step=1)"
      ]
     },
     "execution_count": 25,
     "metadata": {},
     "output_type": "execute_result"
    }
   ],
   "source": [
    "df.index"
   ]
  },
  {
   "cell_type": "code",
   "execution_count": 26,
   "metadata": {},
   "outputs": [],
   "source": [
    "def festivos_DC(col):\n",
    "\n",
    "    \"\"\"Devuelve los festivos de la ciudad de Washington DC.\n",
    "    Args: fecha que queremos analizar sin es festiva o no\n",
    "    Return: string con 'sí' o 'no' en función de si es festivo o no.\n",
    "    \"\"\"\n",
    "\n",
    "    festivo = holidays.US(state = 'DC')\n",
    "\n",
    "    if col in festivo:\n",
    "        return 'sí'\n",
    "    else:\n",
    "        return 'no'"
   ]
  },
  {
   "cell_type": "code",
   "execution_count": 27,
   "metadata": {},
   "outputs": [],
   "source": [
    "df['festivo'] = df['fecha'].apply(festivos_DC)"
   ]
  },
  {
   "cell_type": "code",
   "execution_count": 28,
   "metadata": {},
   "outputs": [],
   "source": [
    "def laborales(col):\n",
    "\n",
    "    \"\"\"Devuelve los días laborales de la ciudad de Washington DC (en función de si son festivos o fin de semana, o días no festivos entre semana)\n",
    "    Args: fecha que queremos analizar sin es laboral o no.\n",
    "    Return: string con 'sí' o 'no' en función de si es laboral o no.\n",
    "    \"\"\"\n",
    "\n",
    "    dia = col.strftime(\"%w\")\n",
    "    festivo = holidays.US(state = 'DC')\n",
    "    \n",
    "    if col in festivo:\n",
    "        return \"no\"\n",
    "    elif dia == \"6\" or dia == \"0\":\n",
    "        return \"no\"\n",
    "    else:\n",
    "        return \"sí\""
   ]
  },
  {
   "cell_type": "code",
   "execution_count": 29,
   "metadata": {},
   "outputs": [],
   "source": [
    "df['laboral'] = df['fecha'].apply(laborales)"
   ]
  },
  {
   "cell_type": "code",
   "execution_count": 30,
   "metadata": {},
   "outputs": [],
   "source": [
    "def cambiar_clima(dia):\n",
    "\n",
    "    \"\"\"Cambia la codificación de la columna clima de números a texto descriptivo\n",
    "    Args: registro que queremos cambiar\n",
    "    Return: registro modificado\n",
    "    \"\"\"\n",
    "    \n",
    "    if dia == 1:\n",
    "        return \"cielo despejado\" \n",
    "    elif dia == 2:\n",
    "        return \" niebla\"\n",
    "    elif dia == 3:\n",
    "        return \"precipitaciones ligeras\"\n",
    "    else:\n",
    "        return \"precipitaciones abundantes\""
   ]
  },
  {
   "cell_type": "code",
   "execution_count": 31,
   "metadata": {},
   "outputs": [],
   "source": [
    "df['clima'] = df['clima'].map(cambiar_clima)"
   ]
  },
  {
   "cell_type": "code",
   "execution_count": 32,
   "metadata": {},
   "outputs": [],
   "source": [
    "lista_redondeo = [\"temperatura\", \"sensacion_termica\", \"humedad\", \"viento\"]\n",
    "\n",
    "for col in lista_redondeo:\n",
    "    df[col] = df[col].apply(lambda elemento: round(elemento, 1))"
   ]
  },
  {
   "cell_type": "code",
   "execution_count": 33,
   "metadata": {},
   "outputs": [
    {
     "data": {
      "text/html": [
       "<div>\n",
       "<style scoped>\n",
       "    .dataframe tbody tr th:only-of-type {\n",
       "        vertical-align: middle;\n",
       "    }\n",
       "\n",
       "    .dataframe tbody tr th {\n",
       "        vertical-align: top;\n",
       "    }\n",
       "\n",
       "    .dataframe thead th {\n",
       "        text-align: right;\n",
       "    }\n",
       "</style>\n",
       "<table border=\"1\" class=\"dataframe\">\n",
       "  <thead>\n",
       "    <tr style=\"text-align: right;\">\n",
       "      <th></th>\n",
       "      <th>momento</th>\n",
       "      <th>fecha</th>\n",
       "      <th>estacion</th>\n",
       "      <th>año</th>\n",
       "      <th>mes</th>\n",
       "      <th>festivo</th>\n",
       "      <th>dia_semana</th>\n",
       "      <th>laboral</th>\n",
       "      <th>clima</th>\n",
       "      <th>temperatura</th>\n",
       "      <th>sensacion_termica</th>\n",
       "      <th>humedad</th>\n",
       "      <th>viento</th>\n",
       "      <th>casual</th>\n",
       "      <th>registrado</th>\n",
       "      <th>total</th>\n",
       "    </tr>\n",
       "  </thead>\n",
       "  <tbody>\n",
       "    <tr>\n",
       "      <th>0</th>\n",
       "      <td>1</td>\n",
       "      <td>2018-01-01</td>\n",
       "      <td>invierno</td>\n",
       "      <td>2018</td>\n",
       "      <td>enero</td>\n",
       "      <td>sí</td>\n",
       "      <td>lunes</td>\n",
       "      <td>no</td>\n",
       "      <td>niebla</td>\n",
       "      <td>14.1</td>\n",
       "      <td>18.2</td>\n",
       "      <td>80.6</td>\n",
       "      <td>10.7</td>\n",
       "      <td>331</td>\n",
       "      <td>654</td>\n",
       "      <td>985</td>\n",
       "    </tr>\n",
       "    <tr>\n",
       "      <th>1</th>\n",
       "      <td>2</td>\n",
       "      <td>2018-02-01</td>\n",
       "      <td>invierno</td>\n",
       "      <td>2018</td>\n",
       "      <td>febrero</td>\n",
       "      <td>no</td>\n",
       "      <td>jueves</td>\n",
       "      <td>sí</td>\n",
       "      <td>niebla</td>\n",
       "      <td>14.9</td>\n",
       "      <td>17.7</td>\n",
       "      <td>69.6</td>\n",
       "      <td>16.7</td>\n",
       "      <td>131</td>\n",
       "      <td>670</td>\n",
       "      <td>801</td>\n",
       "    </tr>\n",
       "    <tr>\n",
       "      <th>2</th>\n",
       "      <td>3</td>\n",
       "      <td>2018-03-01</td>\n",
       "      <td>invierno</td>\n",
       "      <td>2018</td>\n",
       "      <td>marzo</td>\n",
       "      <td>no</td>\n",
       "      <td>jueves</td>\n",
       "      <td>sí</td>\n",
       "      <td>cielo despejado</td>\n",
       "      <td>8.1</td>\n",
       "      <td>9.5</td>\n",
       "      <td>43.7</td>\n",
       "      <td>16.6</td>\n",
       "      <td>120</td>\n",
       "      <td>1229</td>\n",
       "      <td>1349</td>\n",
       "    </tr>\n",
       "    <tr>\n",
       "      <th>3</th>\n",
       "      <td>4</td>\n",
       "      <td>2018-04-01</td>\n",
       "      <td>primavera</td>\n",
       "      <td>2018</td>\n",
       "      <td>abril</td>\n",
       "      <td>no</td>\n",
       "      <td>domingo</td>\n",
       "      <td>no</td>\n",
       "      <td>cielo despejado</td>\n",
       "      <td>8.2</td>\n",
       "      <td>10.6</td>\n",
       "      <td>59.0</td>\n",
       "      <td>10.7</td>\n",
       "      <td>108</td>\n",
       "      <td>1454</td>\n",
       "      <td>1562</td>\n",
       "    </tr>\n",
       "    <tr>\n",
       "      <th>4</th>\n",
       "      <td>5</td>\n",
       "      <td>2018-05-01</td>\n",
       "      <td>primavera</td>\n",
       "      <td>2018</td>\n",
       "      <td>mayo</td>\n",
       "      <td>no</td>\n",
       "      <td>martes</td>\n",
       "      <td>sí</td>\n",
       "      <td>cielo despejado</td>\n",
       "      <td>9.3</td>\n",
       "      <td>11.5</td>\n",
       "      <td>43.7</td>\n",
       "      <td>12.5</td>\n",
       "      <td>82</td>\n",
       "      <td>1518</td>\n",
       "      <td>1600</td>\n",
       "    </tr>\n",
       "  </tbody>\n",
       "</table>\n",
       "</div>"
      ],
      "text/plain": [
       "   momento      fecha   estacion   año      mes festivo dia_semana laboral  \\\n",
       "0        1 2018-01-01   invierno  2018    enero      sí      lunes      no   \n",
       "1        2 2018-02-01   invierno  2018  febrero      no     jueves      sí   \n",
       "2        3 2018-03-01   invierno  2018    marzo      no     jueves      sí   \n",
       "3        4 2018-04-01  primavera  2018    abril      no    domingo      no   \n",
       "4        5 2018-05-01  primavera  2018     mayo      no     martes      sí   \n",
       "\n",
       "             clima  temperatura  sensacion_termica  humedad  viento  casual  \\\n",
       "0           niebla         14.1               18.2     80.6    10.7     331   \n",
       "1           niebla         14.9               17.7     69.6    16.7     131   \n",
       "2  cielo despejado          8.1                9.5     43.7    16.6     120   \n",
       "3  cielo despejado          8.2               10.6     59.0    10.7     108   \n",
       "4  cielo despejado          9.3               11.5     43.7    12.5      82   \n",
       "\n",
       "   registrado  total  \n",
       "0         654    985  \n",
       "1         670    801  \n",
       "2        1229   1349  \n",
       "3        1454   1562  \n",
       "4        1518   1600  "
      ]
     },
     "execution_count": 33,
     "metadata": {},
     "output_type": "execute_result"
    }
   ],
   "source": [
    "df.head()"
   ]
  },
  {
   "cell_type": "code",
   "execution_count": 34,
   "metadata": {},
   "outputs": [],
   "source": [
    "#Hemos observado que la columna momento no nos aporta nada de información relevante para nuestro análisis, procedemos a eliminarla.\n",
    "\n",
    "df.drop('momento', axis = 1, inplace = True)"
   ]
  },
  {
   "cell_type": "code",
   "execution_count": 35,
   "metadata": {},
   "outputs": [],
   "source": [
    "df.to_pickle(\"data/bikes_limpio.pkl\")"
   ]
  }
 ],
 "metadata": {
  "kernelspec": {
   "display_name": "adalabenv",
   "language": "python",
   "name": "python3"
  },
  "language_info": {
   "codemirror_mode": {
    "name": "ipython",
    "version": 3
   },
   "file_extension": ".py",
   "mimetype": "text/x-python",
   "name": "python",
   "nbconvert_exporter": "python",
   "pygments_lexer": "ipython3",
   "version": "3.9.7"
  },
  "orig_nbformat": 4
 },
 "nbformat": 4,
 "nbformat_minor": 2
}
